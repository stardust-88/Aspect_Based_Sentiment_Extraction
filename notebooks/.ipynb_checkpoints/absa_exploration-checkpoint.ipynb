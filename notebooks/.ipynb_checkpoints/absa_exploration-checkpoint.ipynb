{
 "cells": [
  {
   "cell_type": "code",
   "execution_count": 37,
   "metadata": {
    "id": "653QtrvIleqY"
   },
   "outputs": [],
   "source": [
    "# model_requirements:\n",
    "import torch\n",
    "import torchvision\n",
    "import torch.nn as nn\n",
    "import torch.optim as optim\n",
    "import torch.nn.functional as F\n",
    "from torch.utils.data import Dataset, DataLoader\n",
    "import transformers as tr\n",
    "\n",
    "from sklearn import model_selection\n",
    "from sklearn.model_selection import train_test_split\n",
    "from sklearn.metrics import confusion_matrix, classification_report\n",
    "\n",
    "# math_and_basic_requirements:\n",
    "import numpy as np\n",
    "from collections import defaultdict\n",
    "from collections import  Counter\n",
    "\n",
    "# analytic_requirements:\n",
    "import pandas as pd\n",
    "import matplotlib.pyplot as plt\n",
    "import seaborn as sns\n",
    "plt.style.use('ggplot')\n",
    "%matplotlib inline\n",
    "\n",
    "# language_requirements:\n",
    "import re\n",
    "import string\n",
    "import spacy\n",
    "\n",
    "# misc:\n",
    "import warnings\n",
    "warnings.filterwarnings('ignore')\n",
    "import tqdm as tqdm\n",
    "import os\n",
    "from textwrap import wrap"
   ]
  },
  {
   "cell_type": "code",
   "execution_count": 2,
   "metadata": {
    "id": "bMkFme82gG2c"
   },
   "outputs": [],
   "source": [
    "nlp=spacy.load('en_core_web_sm')"
   ]
  },
  {
   "cell_type": "code",
   "execution_count": 43,
   "metadata": {},
   "outputs": [
    {
     "data": {
      "text/plain": [
       "'/home2/jhansi.mallela/research_naman/absa2/notebooks'"
      ]
     },
     "execution_count": 43,
     "metadata": {},
     "output_type": "execute_result"
    }
   ],
   "source": [
    "os.getcwd()"
   ]
  },
  {
   "cell_type": "code",
   "execution_count": 44,
   "metadata": {},
   "outputs": [],
   "source": [
    "path = os.getcwd()[:-10]"
   ]
  },
  {
   "cell_type": "code",
   "execution_count": 45,
   "metadata": {},
   "outputs": [
    {
     "data": {
      "text/plain": [
       "'/home2/jhansi.mallela/research_naman/absa2'"
      ]
     },
     "execution_count": 45,
     "metadata": {},
     "output_type": "execute_result"
    }
   ],
   "source": [
    "path  # path to the absa folder"
   ]
  },
  {
   "cell_type": "code",
   "execution_count": 46,
   "metadata": {},
   "outputs": [],
   "source": [
    "# configuration class for hyperparameters and other configurations\n",
    "\n",
    "class Config:\n",
    "\n",
    "      def __init__(self):\n",
    "\n",
    "        # general hyperparameters\n",
    "        self.MAX_LEN = 250\n",
    "        self.BATCH_SIZE = 16\n",
    "        self.EPOCHS = 20\n",
    "        self.learning_rate = 0.00001\n",
    "        \n",
    "        # train, val and test split ratios (when using train_test_split of scikit learn)\n",
    "        self.TRAIN_VAL_SPLIT = 0.3\n",
    "        self.VAL_TEST_SPLIT = 0.5\n",
    "\n",
    "        # paths\n",
    "        #self.path = os.getcwd()[:-10]\n",
    "        self.data_path = f'{path}/data'\n",
    "        self.train_file_path = f'{path}/data/train.csv'\n",
    "        self.test_file_path = f'{path}/data/results/test.csv'\n",
    "        self.model_save_path = f'{path}/models'\n",
    "        self.results_save_path = f'{path}/data/results'\n",
    "\n",
    "        # model types\n",
    "        self.bert_base_model = True # if want to use the BertModel, otherwise DistilBertModel\n",
    "        self.case_based_model = True # if want to use the cased or uncased version\n",
    "\n",
    "        # others\n",
    "        self.num_workers = 0\n",
    "        self.RANDOM_SEED = 43\n",
    "        self.train_shuffle = True\n",
    "        self.valid_shuffle = False\n",
    "        self.device = torch.device(\"cuda\" if torch.cuda.is_available() else \"cpu\")"
   ]
  },
  {
   "cell_type": "code",
   "execution_count": 47,
   "metadata": {},
   "outputs": [],
   "source": [
    "conf = Config()"
   ]
  },
  {
   "cell_type": "markdown",
   "metadata": {},
   "source": [
    "## Exploration"
   ]
  },
  {
   "cell_type": "code",
   "execution_count": 48,
   "metadata": {
    "id": "fyte1K0YmEAg"
   },
   "outputs": [],
   "source": [
    "# reading the training and the testing files\n",
    "train_df = pd.read_csv(conf.train_file_path)\n",
    "test_df = pd.read_csv(conf.test_file_path)"
   ]
  },
  {
   "cell_type": "code",
   "execution_count": 49,
   "metadata": {
    "id": "yjTJvCayseuX"
   },
   "outputs": [],
   "source": [
    "pd.set_option('display.max_colwidth', -1)  # to make dataframe take up the whole width of the screen"
   ]
  },
  {
   "cell_type": "code",
   "execution_count": 50,
   "metadata": {
    "colab": {
     "base_uri": "https://localhost:8080/",
     "height": 206
    },
    "id": "0gdw-tRFmEK5",
    "outputId": "4eb17511-7a5f-4bd1-b487-afd71759e1a1"
   },
   "outputs": [
    {
     "data": {
      "text/html": [
       "<div>\n",
       "<style scoped>\n",
       "    .dataframe tbody tr th:only-of-type {\n",
       "        vertical-align: middle;\n",
       "    }\n",
       "\n",
       "    .dataframe tbody tr th {\n",
       "        vertical-align: top;\n",
       "    }\n",
       "\n",
       "    .dataframe thead th {\n",
       "        text-align: right;\n",
       "    }\n",
       "</style>\n",
       "<table border=\"1\" class=\"dataframe\">\n",
       "  <thead>\n",
       "    <tr style=\"text-align: right;\">\n",
       "      <th></th>\n",
       "      <th>text</th>\n",
       "      <th>aspect</th>\n",
       "      <th>label</th>\n",
       "    </tr>\n",
       "  </thead>\n",
       "  <tbody>\n",
       "    <tr>\n",
       "      <th>0</th>\n",
       "      <td>can you check whether its cancelled completely?</td>\n",
       "      <td>cancelled</td>\n",
       "      <td>1</td>\n",
       "    </tr>\n",
       "    <tr>\n",
       "      <th>1</th>\n",
       "      <td>cannot rely on both milk delivery and grocery items.</td>\n",
       "      <td>Milk</td>\n",
       "      <td>0</td>\n",
       "    </tr>\n",
       "    <tr>\n",
       "      <th>2</th>\n",
       "      <td>I get no notification, however the app is really fine</td>\n",
       "      <td>notification</td>\n",
       "      <td>0</td>\n",
       "    </tr>\n",
       "    <tr>\n",
       "      <th>3</th>\n",
       "      <td>Love this app, but would love it even more if Gantt charts and Calendar view were available on iPhone!</td>\n",
       "      <td>view</td>\n",
       "      <td>1</td>\n",
       "    </tr>\n",
       "    <tr>\n",
       "      <th>4</th>\n",
       "      <td>it does not let me load a clip on the scene</td>\n",
       "      <td>load</td>\n",
       "      <td>0</td>\n",
       "    </tr>\n",
       "  </tbody>\n",
       "</table>\n",
       "</div>"
      ],
      "text/plain": [
       "                                                                                                     text  \\\n",
       "0  can you check whether its cancelled completely?                                                          \n",
       "1  cannot rely on both milk delivery and grocery items.                                                     \n",
       "2  I get no notification, however the app is really fine                                                    \n",
       "3  Love this app, but would love it even more if Gantt charts and Calendar view were available on iPhone!   \n",
       "4  it does not let me load a clip on the scene                                                              \n",
       "\n",
       "         aspect  label  \n",
       "0  cancelled     1      \n",
       "1  Milk          0      \n",
       "2  notification  0      \n",
       "3  view          1      \n",
       "4  load          0      "
      ]
     },
     "execution_count": 50,
     "metadata": {},
     "output_type": "execute_result"
    }
   ],
   "source": [
    "train_df.head()"
   ]
  },
  {
   "cell_type": "code",
   "execution_count": 13,
   "metadata": {
    "colab": {
     "base_uri": "https://localhost:8080/",
     "height": 285
    },
    "id": "-EhwQBxMmEQa",
    "outputId": "79ec917d-1c12-4201-9fc0-596fc5a47197"
   },
   "outputs": [
    {
     "data": {
      "text/html": [
       "<div>\n",
       "<style scoped>\n",
       "    .dataframe tbody tr th:only-of-type {\n",
       "        vertical-align: middle;\n",
       "    }\n",
       "\n",
       "    .dataframe tbody tr th {\n",
       "        vertical-align: top;\n",
       "    }\n",
       "\n",
       "    .dataframe thead th {\n",
       "        text-align: right;\n",
       "    }\n",
       "</style>\n",
       "<table border=\"1\" class=\"dataframe\">\n",
       "  <thead>\n",
       "    <tr style=\"text-align: right;\">\n",
       "      <th></th>\n",
       "      <th>text</th>\n",
       "      <th>aspect</th>\n",
       "    </tr>\n",
       "  </thead>\n",
       "  <tbody>\n",
       "    <tr>\n",
       "      <th>0</th>\n",
       "      <td>improve your customer service and product availability</td>\n",
       "      <td>Customer service</td>\n",
       "    </tr>\n",
       "    <tr>\n",
       "      <th>1</th>\n",
       "      <td>functionality is great, almost as in desktop version, but mobile version needs a lot of improvement esp the speed</td>\n",
       "      <td>mobile version</td>\n",
       "    </tr>\n",
       "    <tr>\n",
       "      <th>2</th>\n",
       "      <td>but it keeps starting from zoomed in and then slowly zooming out as the music plays.</td>\n",
       "      <td>zoomed</td>\n",
       "    </tr>\n",
       "    <tr>\n",
       "      <th>3</th>\n",
       "      <td>hey marilyn thanks for your answer the soc2 type 1 certification is a document that can be shared with external parties for security assessment do you have a copy of the report we could explore?</td>\n",
       "      <td>Security</td>\n",
       "    </tr>\n",
       "    <tr>\n",
       "      <th>4</th>\n",
       "      <td>@delanovc @zoom @airtable @notionhq @calendly apple x lulu would be the most interesting if they ever expand their.</td>\n",
       "      <td>apple</td>\n",
       "    </tr>\n",
       "  </tbody>\n",
       "</table>\n",
       "</div>"
      ],
      "text/plain": [
       "                                                                                                                                                                                                 text  \\\n",
       "0  improve your customer service and product availability                                                                                                                                               \n",
       "1  functionality is great, almost as in desktop version, but mobile version needs a lot of improvement esp the speed                                                                                    \n",
       "2  but it keeps starting from zoomed in and then slowly zooming out as the music plays.                                                                                                                 \n",
       "3  hey marilyn thanks for your answer the soc2 type 1 certification is a document that can be shared with external parties for security assessment do you have a copy of the report we could explore?   \n",
       "4  @delanovc @zoom @airtable @notionhq @calendly apple x lulu would be the most interesting if they ever expand their.                                                                                  \n",
       "\n",
       "             aspect  \n",
       "0  Customer service  \n",
       "1  mobile version    \n",
       "2  zoomed            \n",
       "3  Security          \n",
       "4  apple             "
      ]
     },
     "execution_count": 13,
     "metadata": {},
     "output_type": "execute_result"
    }
   ],
   "source": [
    "test_df.head()"
   ]
  },
  {
   "cell_type": "code",
   "execution_count": 127,
   "metadata": {
    "colab": {
     "base_uri": "https://localhost:8080/"
    },
    "id": "cqLwVpFcmETA",
    "outputId": "c35c50f3-f82c-497c-9e2e-17df9fa97146"
   },
   "outputs": [
    {
     "name": "stdout",
     "output_type": "stream",
     "text": [
      "Size of the train data: 4000\n",
      "Size of test data: 1000\n"
     ]
    }
   ],
   "source": [
    "print(f'Size of the train data: {len(train_df)}')\n",
    "print(f'Size of test data: {len(test_df)}')"
   ]
  },
  {
   "cell_type": "code",
   "execution_count": 128,
   "metadata": {
    "colab": {
     "base_uri": "https://localhost:8080/",
     "height": 334
    },
    "id": "V-xdSQZ2mEVt",
    "outputId": "031a0bcd-680b-4918-debd-ba8b1d8999c7",
    "scrolled": true
   },
   "outputs": [
    {
     "data": {
      "text/plain": [
       "[Text(0, 0, 'Negative: 1680'),\n",
       " Text(1, 0, 'Neutral: 1294'),\n",
       " Text(2, 0, 'Positive: 1026')]"
      ]
     },
     "execution_count": 128,
     "metadata": {},
     "output_type": "execute_result"
    },
    {
     "data": {
      "image/png": "[encoded data removed]",
      "text/plain": [
       "<Figure size 432x288 with 1 Axes>"
      ]
     },
     "metadata": {
      "needs_background": "light"
     },
     "output_type": "display_data"
    }
   ],
   "source": [
    "# class distribution of positive and negative classes\n",
    "ax=sns.countplot(x='label',data=train_df)\n",
    "ax.set_xticklabels([f'Negative: {len(train_df.loc[train_df[\"label\"]==0])}',f'Neutral: {len(train_df.loc[train_df[\"label\"]==1])}', f'Positive: {len(train_df.loc[train_df[\"label\"]==2])}'])"
   ]
  },
  {
   "cell_type": "code",
   "execution_count": 129,
   "metadata": {
    "colab": {
     "base_uri": "https://localhost:8080/"
    },
    "id": "yWcBBN8VamLq",
    "outputId": "b4587e8a-9f56-49d5-d42d-12ca3cbe4a4d"
   },
   "outputs": [
    {
     "name": "stdout",
     "output_type": "stream",
     "text": [
      "0\n",
      "0.00 % of keyowrds values are missing in train data\n",
      "\n",
      "0\n",
      "0.00 % of keyowrds values are missing in test data\n"
     ]
    }
   ],
   "source": [
    "# are there any null rows in train data\n",
    "null_train_entries=train_df['text'].isnull().sum()\n",
    "print(null_train_entries)\n",
    "print(f'{null_train_entries/len(train_df)*100:.2f} % of keyowrds values are missing in train data')\n",
    "print()\n",
    "\n",
    "# are there any null rows in test data\n",
    "null_test_entries=test_df['text'].isnull().sum()\n",
    "print(null_test_entries)\n",
    "print(f'{null_test_entries/len(test_df)*100:.2f} % of keyowrds values are missing in test data')"
   ]
  },
  {
   "cell_type": "markdown",
   "metadata": {
    "id": "EltnZRjpealq"
   },
   "source": [
    "#### Analyzing stop words and punctuations"
   ]
  },
  {
   "cell_type": "code",
   "execution_count": 130,
   "metadata": {
    "id": "LfRakFIXee0A"
   },
   "outputs": [],
   "source": [
    "# creating temporary corpus for analysing punctuations and stopwords:\n",
    "def temporary_corpus(target):\n",
    "    corpus=[]\n",
    "    \n",
    "    for text in train_df[train_df['label']==target]['text'].str.split():\n",
    "        for i in text:\n",
    "            corpus.append(i)\n",
    "    return corpus"
   ]
  },
  {
   "cell_type": "markdown",
   "metadata": {
    "id": "JAxCOpxHeqks"
   },
   "source": [
    "##### Punctuations"
   ]
  },
  {
   "cell_type": "code",
   "execution_count": 131,
   "metadata": {
    "colab": {
     "base_uri": "https://localhost:8080/",
     "height": 337
    },
    "id": "jd-Bk_Vrefy-",
    "outputId": "ccfd2205-25a8-4d97-a835-d59d2aee249f"
   },
   "outputs": [
    {
     "data": {
      "text/plain": [
       "<BarContainer object of 23 artists>"
      ]
     },
     "execution_count": 131,
     "metadata": {},
     "output_type": "execute_result"
    },
    {
     "data": {
      "image/png": "[encoded data removed]",
      "text/plain": [
       "<Figure size 720x360 with 1 Axes>"
      ]
     },
     "metadata": {
      "needs_background": "light"
     },
     "output_type": "display_data"
    }
   ],
   "source": [
    "# analyzing punctuation for Positive sentiment class:\n",
    "plt.figure(figsize=(10,5))\n",
    "corpus=temporary_corpus(2)\n",
    "\n",
    "dic=defaultdict(int)\n",
    "special = string.punctuation\n",
    "for token in corpus:\n",
    "    for character in token:\n",
    "        if character in special:\n",
    "            dic[character]+=1\n",
    "        \n",
    "x,y=zip(*dic.items())\n",
    "plt.bar(x,y)"
   ]
  },
  {
   "cell_type": "code",
   "execution_count": 141,
   "metadata": {
    "colab": {
     "base_uri": "https://localhost:8080/",
     "height": 337
    },
    "id": "BQNmuhcVef2X",
    "outputId": "5ed5a3d7-7695-423e-8f61-6b9ed5e45274"
   },
   "outputs": [
    {
     "data": {
      "text/plain": [
       "<BarContainer object of 28 artists>"
      ]
     },
     "execution_count": 141,
     "metadata": {},
     "output_type": "execute_result"
    },
    {
     "data": {
      "image/png": "[encoded data removed]",
      "text/plain": [
       "<Figure size 720x360 with 1 Axes>"
      ]
     },
     "metadata": {
      "needs_background": "light"
     },
     "output_type": "display_data"
    }
   ],
   "source": [
    "# analyzing punctuation for Negative sentiment class:\n",
    "plt.figure(figsize=(10,5))\n",
    "corpus=temporary_corpus(1)\n",
    "\n",
    "dic=defaultdict(int)\n",
    "special = string.punctuation\n",
    "for token in corpus:\n",
    "    for character in token:\n",
    "        if character in special:\n",
    "            dic[character]+=1\n",
    "        \n",
    "x,y=zip(*dic.items())\n",
    "plt.bar(x,y)"
   ]
  },
  {
   "cell_type": "code",
   "execution_count": 142,
   "metadata": {
    "colab": {
     "base_uri": "https://localhost:8080/",
     "height": 337
    },
    "id": "rTzv4FMief4H",
    "outputId": "2ead0e05-7a0e-4ab2-fc71-787a1fb9aaf7"
   },
   "outputs": [
    {
     "data": {
      "text/plain": [
       "<BarContainer object of 28 artists>"
      ]
     },
     "execution_count": 142,
     "metadata": {},
     "output_type": "execute_result"
    },
    {
     "data": {
      "image/png": "[encoded data removed]",
      "text/plain": [
       "<Figure size 720x360 with 1 Axes>"
      ]
     },
     "metadata": {
      "needs_background": "light"
     },
     "output_type": "display_data"
    }
   ],
   "source": [
    "# analyzing punctuation for Neutral sentiment class:\n",
    "plt.figure(figsize=(10,5))\n",
    "corpus=temporary_corpus(0)\n",
    "\n",
    "dic=defaultdict(int)\n",
    "special = string.punctuation\n",
    "for token in corpus:\n",
    "    for character in token:\n",
    "        if character in special:\n",
    "            dic[character]+=1\n",
    "        \n",
    "x,y=zip(*dic.items())\n",
    "plt.bar(x,y)"
   ]
  },
  {
   "cell_type": "markdown",
   "metadata": {
    "id": "lE74Wk1DgXI9"
   },
   "source": [
    "##### Stop words"
   ]
  },
  {
   "cell_type": "code",
   "execution_count": 143,
   "metadata": {
    "id": "hna_4sjZg8-A"
   },
   "outputs": [],
   "source": [
    "def frequent_stopwords(label):\n",
    "    corpus=temporary_corpus(label)\n",
    "\n",
    "    dic=defaultdict(int)\n",
    "    for word in corpus:\n",
    "        if word in nlp.Defaults.stop_words:\n",
    "            dic[word]+=1\n",
    "\n",
    "    # getting the top 10 most frequent stop words        \n",
    "    top=sorted(dic.items(), key=lambda x:x[1],reverse=True)[:10]\n",
    "\n",
    "    return top, dic"
   ]
  },
  {
   "cell_type": "code",
   "execution_count": 144,
   "metadata": {
    "id": "5YzSvcPphdUd"
   },
   "outputs": [],
   "source": [
    "# stop words for positive class\n",
    "top, dic = frequent_stopwords(2)"
   ]
  },
  {
   "cell_type": "code",
   "execution_count": 145,
   "metadata": {
    "colab": {
     "base_uri": "https://localhost:8080/"
    },
    "id": "LQI3NmR7hqhC",
    "outputId": "7e50f70d-aac9-4c08-e663-536d739187fe"
   },
   "outputs": [
    {
     "name": "stdout",
     "output_type": "stream",
     "text": [
      "Total number of stop words in spacy: 326\n",
      "Total number of stop words in our disaster class which are part of the spacy's stop words list: 204\n"
     ]
    }
   ],
   "source": [
    "print(f'Total number of stop words in spacy: {len(nlp.Defaults.stop_words)}')\n",
    "print(f'Total number of stop words in our disaster class which are part of the spacy\\'s stop words list: {len(dic)}')"
   ]
  },
  {
   "cell_type": "code",
   "execution_count": 146,
   "metadata": {
    "colab": {
     "base_uri": "https://localhost:8080/",
     "height": 282
    },
    "id": "AvvGa_6rhtpu",
    "outputId": "f565a8ef-91c0-41d6-854c-edf1e776513b"
   },
   "outputs": [
    {
     "data": {
      "text/plain": [
       "<BarContainer object of 10 artists>"
      ]
     },
     "execution_count": 146,
     "metadata": {},
     "output_type": "execute_result"
    },
    {
     "data": {
      "image/png": "[encoded data removed]",
      "text/plain": [
       "<Figure size 432x288 with 1 Axes>"
      ]
     },
     "metadata": {
      "needs_background": "light"
     },
     "output_type": "display_data"
    }
   ],
   "source": [
    "# top 10 most frequent stop words in our corpus:\n",
    "x,y=zip(*top)\n",
    "plt.bar(x,y)"
   ]
  },
  {
   "cell_type": "code",
   "execution_count": 147,
   "metadata": {
    "id": "wUd4cFLUegDD"
   },
   "outputs": [],
   "source": [
    "# stop words for negative class\n",
    "top, dic = frequent_stopwords(1)"
   ]
  },
  {
   "cell_type": "code",
   "execution_count": 148,
   "metadata": {
    "colab": {
     "base_uri": "https://localhost:8080/"
    },
    "id": "9r3_JYULegFp",
    "outputId": "28f58096-39f5-4e98-c72b-cb0d1459d94c"
   },
   "outputs": [
    {
     "name": "stdout",
     "output_type": "stream",
     "text": [
      "Total number of stop words in spacy: 326\n",
      "Total number of stop words in our disaster class which are part of the spacy's stop words list: 222\n"
     ]
    }
   ],
   "source": [
    "print(f'Total number of stop words in spacy: {len(nlp.Defaults.stop_words)}')\n",
    "print(f'Total number of stop words in our disaster class which are part of the spacy\\'s stop words list: {len(dic)}')"
   ]
  },
  {
   "cell_type": "code",
   "execution_count": 149,
   "metadata": {
    "colab": {
     "base_uri": "https://localhost:8080/",
     "height": 282
    },
    "id": "tOyiu71SegID",
    "outputId": "db47be86-fa1c-444f-bda6-35dc089a30a0"
   },
   "outputs": [
    {
     "data": {
      "text/plain": [
       "<BarContainer object of 10 artists>"
      ]
     },
     "execution_count": 149,
     "metadata": {},
     "output_type": "execute_result"
    },
    {
     "data": {
      "image/png": "[encoded data removed]",
      "text/plain": [
       "<Figure size 432x288 with 1 Axes>"
      ]
     },
     "metadata": {
      "needs_background": "light"
     },
     "output_type": "display_data"
    }
   ],
   "source": [
    "# top 10 most frequent stop words in our corpus:\n",
    "x,y=zip(*top)\n",
    "plt.bar(x,y, color='orange')"
   ]
  },
  {
   "cell_type": "code",
   "execution_count": 150,
   "metadata": {
    "id": "5OEMopx5egLS"
   },
   "outputs": [],
   "source": [
    "# stop words for neutral class\n",
    "top, dic = frequent_stopwords(0)"
   ]
  },
  {
   "cell_type": "code",
   "execution_count": 151,
   "metadata": {
    "colab": {
     "base_uri": "https://localhost:8080/"
    },
    "id": "F3pb-m1HegOC",
    "outputId": "eeef9bfa-0dca-46c7-d676-53edbf33e4af"
   },
   "outputs": [
    {
     "name": "stdout",
     "output_type": "stream",
     "text": [
      "Total number of stop words in spacy: 326\n",
      "Total number of stop words in our disaster class which are part of the spacy's stop words list: 227\n"
     ]
    }
   ],
   "source": [
    "print(f'Total number of stop words in spacy: {len(nlp.Defaults.stop_words)}')\n",
    "print(f'Total number of stop words in our disaster class which are part of the spacy\\'s stop words list: {len(dic)}')"
   ]
  },
  {
   "cell_type": "code",
   "execution_count": 152,
   "metadata": {
    "colab": {
     "base_uri": "https://localhost:8080/",
     "height": 282
    },
    "id": "OPvEW0e3egQa",
    "outputId": "80257983-2312-4488-d332-db46a43a06d1",
    "scrolled": false
   },
   "outputs": [
    {
     "data": {
      "text/plain": [
       "<BarContainer object of 10 artists>"
      ]
     },
     "execution_count": 152,
     "metadata": {},
     "output_type": "execute_result"
    },
    {
     "data": {
      "image/png": "[encoded data removed]",
      "text/plain": [
       "<Figure size 432x288 with 1 Axes>"
      ]
     },
     "metadata": {
      "needs_background": "light"
     },
     "output_type": "display_data"
    }
   ],
   "source": [
    "# top 10 most frequent stop words in our corpus:\n",
    "x,y=zip(*top)\n",
    "plt.bar(x,y, color='green')"
   ]
  },
  {
   "cell_type": "code",
   "execution_count": 154,
   "metadata": {
    "id": "5jb1nCZcegTG"
   },
   "outputs": [],
   "source": [
    "feature='mention_count'\n",
    "train_df[feature] = train_df['text'].apply(lambda x: len([ch for ch in str(x) if ch == '@']))\n",
    "test_df[feature] = test_df['text'].apply(lambda x: len([ch for ch in str(x) if ch == '@']))"
   ]
  },
  {
   "cell_type": "code",
   "execution_count": 155,
   "metadata": {
    "colab": {
     "base_uri": "https://localhost:8080/"
    },
    "id": "sdcjZ4ctegVo",
    "outputId": "821ee592-7588-4cf1-8f33-16c27313e26a"
   },
   "outputs": [
    {
     "name": "stdout",
     "output_type": "stream",
     "text": [
      "8\n",
      "6\n"
     ]
    }
   ],
   "source": [
    "print(len(train_df[feature].unique()))\n",
    "print(len(test_df[feature].unique()))"
   ]
  },
  {
   "cell_type": "code",
   "execution_count": 156,
   "metadata": {
    "id": "iihAEusfegYk"
   },
   "outputs": [],
   "source": [
    "feature='count_of_hashtags'\n",
    "train_df[feature] = train_df['text'].apply(lambda x: len([ch for ch in str(x) if ch == '#']))\n",
    "test_df[feature] = test_df['text'].apply(lambda x: len([ch for ch in str(x) if ch == '#']))"
   ]
  },
  {
   "cell_type": "code",
   "execution_count": 157,
   "metadata": {
    "colab": {
     "base_uri": "https://localhost:8080/"
    },
    "id": "Rri_Nt1Vegd_",
    "outputId": "2bd310e7-0b35-4bd3-fdba-74f9edef64a6"
   },
   "outputs": [
    {
     "name": "stdout",
     "output_type": "stream",
     "text": [
      "3\n",
      "3\n"
     ]
    }
   ],
   "source": [
    "print(len(train_df[feature].unique()))\n",
    "print(len(test_df[feature].unique()))"
   ]
  },
  {
   "cell_type": "code",
   "execution_count": 158,
   "metadata": {
    "id": "bdkJ04_leggR"
   },
   "outputs": [],
   "source": [
    "feature='count_of_urls'\n",
    "train_df[feature] = train_df['text'].apply(lambda x: len([word for word in str(x).lower().split() if 'http' in word or 'https' in word]))\n",
    "test_df[feature] = test_df['text'].apply(lambda x: len([word for word in str(x).lower().split() if 'http' in word or 'https' in word]))"
   ]
  },
  {
   "cell_type": "code",
   "execution_count": 159,
   "metadata": {
    "colab": {
     "base_uri": "https://localhost:8080/"
    },
    "id": "HRtrHUYdegmN",
    "outputId": "f57789a2-2a81-4ad5-8c43-d48b13b4fc78"
   },
   "outputs": [
    {
     "name": "stdout",
     "output_type": "stream",
     "text": [
      "1\n",
      "1\n"
     ]
    }
   ],
   "source": [
    "print(len(train_df[feature].unique()))\n",
    "print(len(test_df[feature].unique()))"
   ]
  },
  {
   "cell_type": "code",
   "execution_count": 160,
   "metadata": {
    "colab": {
     "base_uri": "https://localhost:8080/"
    },
    "id": "VYYgfyKEegsS",
    "outputId": "f3083119-0d99-4c86-8058-b8f160e476d6"
   },
   "outputs": [
    {
     "name": "stdout",
     "output_type": "stream",
     "text": [
      "(1544,)\n",
      "(558,)\n"
     ]
    }
   ],
   "source": [
    "print(train_df['aspect'].unique().shape)\n",
    "print(test_df['aspect'].unique().shape)"
   ]
  },
  {
   "cell_type": "code",
   "execution_count": 4,
   "metadata": {
    "id": "uccDzpbmlCo3"
   },
   "outputs": [],
   "source": [
    "# minor preprocessing of the text\n",
    "def preprocess_text(doc):\n",
    "    \n",
    "    # removing the URLs\n",
    "    url_pattern = r'\\S*https?:\\S*'\n",
    "    data = re.sub(url_pattern,'',doc)\n",
    "\n",
    "    # removing the usernames:\n",
    "    username_pattern = r'@[^\\s]+'\n",
    "    data = re.sub(username_pattern,'',data)\n",
    "\n",
    "    # remove special characters \n",
    "    special_chars = r'[^\\w\\s]|_'\n",
    "    data = re.sub(special_chars, '', data)\n",
    "\n",
    "    # remving patterns in square brackets\n",
    "    sq_bracks_pat = r'\\[.*?\\]'\n",
    "    data = re.sub(sq_bracks_pat, '', data)\n",
    "\n",
    "    # removing unwanted html tags\n",
    "    html_pattern = r'<.*?>+'\n",
    "    data = re.sub(html_pattern, '', data)\n",
    "\n",
    "    return data"
   ]
  },
  {
   "cell_type": "code",
   "execution_count": 162,
   "metadata": {
    "id": "nxRKAaKzq6QS"
   },
   "outputs": [],
   "source": [
    "# applying preprocessing to both the train and the test data\n",
    "train_df['cleaned_text']=train_df['text'].apply(lambda text:preprocess_text(text))\n",
    "test_df['cleaned_text']=test_df['text'].apply(lambda text:preprocess_text(text))"
   ]
  },
  {
   "cell_type": "code",
   "execution_count": 163,
   "metadata": {
    "colab": {
     "base_uri": "https://localhost:8080/",
     "height": 268
    },
    "id": "vmWjKChEriSX",
    "outputId": "51c498e2-7f63-4861-ae69-9731a08aca4c"
   },
   "outputs": [
    {
     "data": {
      "text/html": [
       "<div>\n",
       "<style scoped>\n",
       "    .dataframe tbody tr th:only-of-type {\n",
       "        vertical-align: middle;\n",
       "    }\n",
       "\n",
       "    .dataframe tbody tr th {\n",
       "        vertical-align: top;\n",
       "    }\n",
       "\n",
       "    .dataframe thead th {\n",
       "        text-align: right;\n",
       "    }\n",
       "</style>\n",
       "<table border=\"1\" class=\"dataframe\">\n",
       "  <thead>\n",
       "    <tr style=\"text-align: right;\">\n",
       "      <th></th>\n",
       "      <th>text</th>\n",
       "      <th>aspect</th>\n",
       "      <th>label</th>\n",
       "      <th>mention_count</th>\n",
       "      <th>count_of_hashtags</th>\n",
       "      <th>count_of_urls</th>\n",
       "      <th>cleaned_text</th>\n",
       "    </tr>\n",
       "  </thead>\n",
       "  <tbody>\n",
       "    <tr>\n",
       "      <th>0</th>\n",
       "      <td>can you check whether its cancelled completely?</td>\n",
       "      <td>cancelled</td>\n",
       "      <td>1</td>\n",
       "      <td>0</td>\n",
       "      <td>0</td>\n",
       "      <td>0</td>\n",
       "      <td>can you check whether its cancelled completely</td>\n",
       "    </tr>\n",
       "    <tr>\n",
       "      <th>1</th>\n",
       "      <td>cannot rely on both milk delivery and grocery items.</td>\n",
       "      <td>Milk</td>\n",
       "      <td>0</td>\n",
       "      <td>0</td>\n",
       "      <td>0</td>\n",
       "      <td>0</td>\n",
       "      <td>cannot rely on both milk delivery and grocery items</td>\n",
       "    </tr>\n",
       "    <tr>\n",
       "      <th>2</th>\n",
       "      <td>I get no notification, however the app is really fine</td>\n",
       "      <td>notification</td>\n",
       "      <td>0</td>\n",
       "      <td>0</td>\n",
       "      <td>0</td>\n",
       "      <td>0</td>\n",
       "      <td>I get no notification however the app is really fine</td>\n",
       "    </tr>\n",
       "    <tr>\n",
       "      <th>3</th>\n",
       "      <td>Love this app, but would love it even more if Gantt charts and Calendar view were available on iPhone!</td>\n",
       "      <td>view</td>\n",
       "      <td>1</td>\n",
       "      <td>0</td>\n",
       "      <td>0</td>\n",
       "      <td>0</td>\n",
       "      <td>Love this app but would love it even more if Gantt charts and Calendar view were available on iPhone</td>\n",
       "    </tr>\n",
       "    <tr>\n",
       "      <th>4</th>\n",
       "      <td>it does not let me load a clip on the scene</td>\n",
       "      <td>load</td>\n",
       "      <td>0</td>\n",
       "      <td>0</td>\n",
       "      <td>0</td>\n",
       "      <td>0</td>\n",
       "      <td>it does not let me load a clip on the scene</td>\n",
       "    </tr>\n",
       "  </tbody>\n",
       "</table>\n",
       "</div>"
      ],
      "text/plain": [
       "                                                                                                     text  \\\n",
       "0  can you check whether its cancelled completely?                                                          \n",
       "1  cannot rely on both milk delivery and grocery items.                                                     \n",
       "2  I get no notification, however the app is really fine                                                    \n",
       "3  Love this app, but would love it even more if Gantt charts and Calendar view were available on iPhone!   \n",
       "4  it does not let me load a clip on the scene                                                              \n",
       "\n",
       "         aspect  label  mention_count  count_of_hashtags  count_of_urls  \\\n",
       "0  cancelled     1      0              0                  0               \n",
       "1  Milk          0      0              0                  0               \n",
       "2  notification  0      0              0                  0               \n",
       "3  view          1      0              0                  0               \n",
       "4  load          0      0              0                  0               \n",
       "\n",
       "                                                                                           cleaned_text  \n",
       "0  can you check whether its cancelled completely                                                        \n",
       "1  cannot rely on both milk delivery and grocery items                                                   \n",
       "2  I get no notification however the app is really fine                                                  \n",
       "3  Love this app but would love it even more if Gantt charts and Calendar view were available on iPhone  \n",
       "4  it does not let me load a clip on the scene                                                           "
      ]
     },
     "execution_count": 163,
     "metadata": {},
     "output_type": "execute_result"
    }
   ],
   "source": [
    "train_df.head()"
   ]
  },
  {
   "cell_type": "code",
   "execution_count": 164,
   "metadata": {
    "id": "CNfI-r6Urmgv"
   },
   "outputs": [],
   "source": [
    "# applying preprocessing to both the train and the test data\n",
    "train_df['cleaned_aspect']=train_df['aspect'].apply(lambda text:preprocess_text(text))\n",
    "test_df['cleaned_aspect']=test_df['aspect'].apply(lambda text:preprocess_text(text))"
   ]
  },
  {
   "cell_type": "code",
   "execution_count": 165,
   "metadata": {
    "colab": {
     "base_uri": "https://localhost:8080/",
     "height": 337
    },
    "id": "S-D6mw3Gr1Ba",
    "outputId": "8e6d2873-44a7-4aaf-bbd2-f2606deeb52e"
   },
   "outputs": [
    {
     "data": {
      "text/html": [
       "<div>\n",
       "<style scoped>\n",
       "    .dataframe tbody tr th:only-of-type {\n",
       "        vertical-align: middle;\n",
       "    }\n",
       "\n",
       "    .dataframe tbody tr th {\n",
       "        vertical-align: top;\n",
       "    }\n",
       "\n",
       "    .dataframe thead th {\n",
       "        text-align: right;\n",
       "    }\n",
       "</style>\n",
       "<table border=\"1\" class=\"dataframe\">\n",
       "  <thead>\n",
       "    <tr style=\"text-align: right;\">\n",
       "      <th></th>\n",
       "      <th>text</th>\n",
       "      <th>aspect</th>\n",
       "      <th>label</th>\n",
       "      <th>mention_count</th>\n",
       "      <th>count_of_hashtags</th>\n",
       "      <th>count_of_urls</th>\n",
       "      <th>cleaned_text</th>\n",
       "      <th>cleaned_aspect</th>\n",
       "    </tr>\n",
       "  </thead>\n",
       "  <tbody>\n",
       "    <tr>\n",
       "      <th>0</th>\n",
       "      <td>can you check whether its cancelled completely?</td>\n",
       "      <td>cancelled</td>\n",
       "      <td>1</td>\n",
       "      <td>0</td>\n",
       "      <td>0</td>\n",
       "      <td>0</td>\n",
       "      <td>can you check whether its cancelled completely</td>\n",
       "      <td>cancelled</td>\n",
       "    </tr>\n",
       "    <tr>\n",
       "      <th>1</th>\n",
       "      <td>cannot rely on both milk delivery and grocery items.</td>\n",
       "      <td>Milk</td>\n",
       "      <td>0</td>\n",
       "      <td>0</td>\n",
       "      <td>0</td>\n",
       "      <td>0</td>\n",
       "      <td>cannot rely on both milk delivery and grocery items</td>\n",
       "      <td>Milk</td>\n",
       "    </tr>\n",
       "    <tr>\n",
       "      <th>2</th>\n",
       "      <td>I get no notification, however the app is really fine</td>\n",
       "      <td>notification</td>\n",
       "      <td>0</td>\n",
       "      <td>0</td>\n",
       "      <td>0</td>\n",
       "      <td>0</td>\n",
       "      <td>I get no notification however the app is really fine</td>\n",
       "      <td>notification</td>\n",
       "    </tr>\n",
       "    <tr>\n",
       "      <th>3</th>\n",
       "      <td>Love this app, but would love it even more if Gantt charts and Calendar view were available on iPhone!</td>\n",
       "      <td>view</td>\n",
       "      <td>1</td>\n",
       "      <td>0</td>\n",
       "      <td>0</td>\n",
       "      <td>0</td>\n",
       "      <td>Love this app but would love it even more if Gantt charts and Calendar view were available on iPhone</td>\n",
       "      <td>view</td>\n",
       "    </tr>\n",
       "    <tr>\n",
       "      <th>4</th>\n",
       "      <td>it does not let me load a clip on the scene</td>\n",
       "      <td>load</td>\n",
       "      <td>0</td>\n",
       "      <td>0</td>\n",
       "      <td>0</td>\n",
       "      <td>0</td>\n",
       "      <td>it does not let me load a clip on the scene</td>\n",
       "      <td>load</td>\n",
       "    </tr>\n",
       "  </tbody>\n",
       "</table>\n",
       "</div>"
      ],
      "text/plain": [
       "                                                                                                     text  \\\n",
       "0  can you check whether its cancelled completely?                                                          \n",
       "1  cannot rely on both milk delivery and grocery items.                                                     \n",
       "2  I get no notification, however the app is really fine                                                    \n",
       "3  Love this app, but would love it even more if Gantt charts and Calendar view were available on iPhone!   \n",
       "4  it does not let me load a clip on the scene                                                              \n",
       "\n",
       "         aspect  label  mention_count  count_of_hashtags  count_of_urls  \\\n",
       "0  cancelled     1      0              0                  0               \n",
       "1  Milk          0      0              0                  0               \n",
       "2  notification  0      0              0                  0               \n",
       "3  view          1      0              0                  0               \n",
       "4  load          0      0              0                  0               \n",
       "\n",
       "                                                                                           cleaned_text  \\\n",
       "0  can you check whether its cancelled completely                                                         \n",
       "1  cannot rely on both milk delivery and grocery items                                                    \n",
       "2  I get no notification however the app is really fine                                                   \n",
       "3  Love this app but would love it even more if Gantt charts and Calendar view were available on iPhone   \n",
       "4  it does not let me load a clip on the scene                                                            \n",
       "\n",
       "  cleaned_aspect  \n",
       "0  cancelled      \n",
       "1  Milk           \n",
       "2  notification   \n",
       "3  view           \n",
       "4  load           "
      ]
     },
     "execution_count": 165,
     "metadata": {},
     "output_type": "execute_result"
    }
   ],
   "source": [
    "train_df.head()"
   ]
  },
  {
   "cell_type": "code",
   "execution_count": 166,
   "metadata": {
    "colab": {
     "base_uri": "https://localhost:8080/",
     "height": 406
    },
    "id": "ONxKkwlfsILM",
    "outputId": "8185b0d3-ea2f-4280-ba71-a83e8c5ec62f"
   },
   "outputs": [
    {
     "data": {
      "text/html": [
       "<div>\n",
       "<style scoped>\n",
       "    .dataframe tbody tr th:only-of-type {\n",
       "        vertical-align: middle;\n",
       "    }\n",
       "\n",
       "    .dataframe tbody tr th {\n",
       "        vertical-align: top;\n",
       "    }\n",
       "\n",
       "    .dataframe thead th {\n",
       "        text-align: right;\n",
       "    }\n",
       "</style>\n",
       "<table border=\"1\" class=\"dataframe\">\n",
       "  <thead>\n",
       "    <tr style=\"text-align: right;\">\n",
       "      <th></th>\n",
       "      <th>text</th>\n",
       "      <th>aspect</th>\n",
       "      <th>mention_count</th>\n",
       "      <th>count_of_hashtags</th>\n",
       "      <th>count_of_urls</th>\n",
       "      <th>cleaned_text</th>\n",
       "      <th>cleaned_aspect</th>\n",
       "    </tr>\n",
       "  </thead>\n",
       "  <tbody>\n",
       "    <tr>\n",
       "      <th>0</th>\n",
       "      <td>improve your customer service and product availability</td>\n",
       "      <td>Customer service</td>\n",
       "      <td>0</td>\n",
       "      <td>0</td>\n",
       "      <td>0</td>\n",
       "      <td>improve your customer service and product availability</td>\n",
       "      <td>Customer service</td>\n",
       "    </tr>\n",
       "    <tr>\n",
       "      <th>1</th>\n",
       "      <td>functionality is great, almost as in desktop version, but mobile version needs a lot of improvement esp the speed</td>\n",
       "      <td>mobile version</td>\n",
       "      <td>0</td>\n",
       "      <td>0</td>\n",
       "      <td>0</td>\n",
       "      <td>functionality is great almost as in desktop version but mobile version needs a lot of improvement esp the speed</td>\n",
       "      <td>mobile version</td>\n",
       "    </tr>\n",
       "    <tr>\n",
       "      <th>2</th>\n",
       "      <td>but it keeps starting from zoomed in and then slowly zooming out as the music plays.</td>\n",
       "      <td>zoomed</td>\n",
       "      <td>0</td>\n",
       "      <td>0</td>\n",
       "      <td>0</td>\n",
       "      <td>but it keeps starting from zoomed in and then slowly zooming out as the music plays</td>\n",
       "      <td>zoomed</td>\n",
       "    </tr>\n",
       "    <tr>\n",
       "      <th>3</th>\n",
       "      <td>hey marilyn thanks for your answer the soc2 type 1 certification is a document that can be shared with external parties for security assessment do you have a copy of the report we could explore?</td>\n",
       "      <td>Security</td>\n",
       "      <td>0</td>\n",
       "      <td>0</td>\n",
       "      <td>0</td>\n",
       "      <td>hey marilyn thanks for your answer the soc2 type 1 certification is a document that can be shared with external parties for security assessment do you have a copy of the report we could explore</td>\n",
       "      <td>Security</td>\n",
       "    </tr>\n",
       "    <tr>\n",
       "      <th>4</th>\n",
       "      <td>@delanovc @zoom @airtable @notionhq @calendly apple x lulu would be the most interesting if they ever expand their.</td>\n",
       "      <td>apple</td>\n",
       "      <td>5</td>\n",
       "      <td>0</td>\n",
       "      <td>0</td>\n",
       "      <td>apple x lulu would be the most interesting if they ever expand their</td>\n",
       "      <td>apple</td>\n",
       "    </tr>\n",
       "  </tbody>\n",
       "</table>\n",
       "</div>"
      ],
      "text/plain": [
       "                                                                                                                                                                                                 text  \\\n",
       "0  improve your customer service and product availability                                                                                                                                               \n",
       "1  functionality is great, almost as in desktop version, but mobile version needs a lot of improvement esp the speed                                                                                    \n",
       "2  but it keeps starting from zoomed in and then slowly zooming out as the music plays.                                                                                                                 \n",
       "3  hey marilyn thanks for your answer the soc2 type 1 certification is a document that can be shared with external parties for security assessment do you have a copy of the report we could explore?   \n",
       "4  @delanovc @zoom @airtable @notionhq @calendly apple x lulu would be the most interesting if they ever expand their.                                                                                  \n",
       "\n",
       "             aspect  mention_count  count_of_hashtags  count_of_urls  \\\n",
       "0  Customer service  0              0                  0               \n",
       "1  mobile version    0              0                  0               \n",
       "2  zoomed            0              0                  0               \n",
       "3  Security          0              0                  0               \n",
       "4  apple             5              0                  0               \n",
       "\n",
       "                                                                                                                                                                                        cleaned_text  \\\n",
       "0  improve your customer service and product availability                                                                                                                                              \n",
       "1  functionality is great almost as in desktop version but mobile version needs a lot of improvement esp the speed                                                                                     \n",
       "2  but it keeps starting from zoomed in and then slowly zooming out as the music plays                                                                                                                 \n",
       "3  hey marilyn thanks for your answer the soc2 type 1 certification is a document that can be shared with external parties for security assessment do you have a copy of the report we could explore   \n",
       "4       apple x lulu would be the most interesting if they ever expand their                                                                                                                           \n",
       "\n",
       "     cleaned_aspect  \n",
       "0  Customer service  \n",
       "1  mobile version    \n",
       "2  zoomed            \n",
       "3  Security          \n",
       "4  apple             "
      ]
     },
     "execution_count": 166,
     "metadata": {},
     "output_type": "execute_result"
    }
   ],
   "source": [
    "test_df.head()"
   ]
  },
  {
   "cell_type": "code",
   "execution_count": 167,
   "metadata": {
    "id": "zcYfoyUT78FA"
   },
   "outputs": [],
   "source": [
    "train_df = train_df[['text', 'aspect', 'cleaned_text', 'cleaned_aspect', 'label']] # taking only the relevant columns\n",
    "test_df = test_df[['text', 'aspect', 'cleaned_text', 'cleaned_aspect']]"
   ]
  },
  {
   "cell_type": "code",
   "execution_count": 168,
   "metadata": {
    "colab": {
     "base_uri": "https://localhost:8080/",
     "height": 268
    },
    "id": "pc3rwGkx9GCS",
    "outputId": "b88512f6-d80c-4e08-8d0f-6ac06caecfb4"
   },
   "outputs": [
    {
     "data": {
      "text/html": [
       "<div>\n",
       "<style scoped>\n",
       "    .dataframe tbody tr th:only-of-type {\n",
       "        vertical-align: middle;\n",
       "    }\n",
       "\n",
       "    .dataframe tbody tr th {\n",
       "        vertical-align: top;\n",
       "    }\n",
       "\n",
       "    .dataframe thead th {\n",
       "        text-align: right;\n",
       "    }\n",
       "</style>\n",
       "<table border=\"1\" class=\"dataframe\">\n",
       "  <thead>\n",
       "    <tr style=\"text-align: right;\">\n",
       "      <th></th>\n",
       "      <th>text</th>\n",
       "      <th>aspect</th>\n",
       "      <th>cleaned_text</th>\n",
       "      <th>cleaned_aspect</th>\n",
       "      <th>label</th>\n",
       "    </tr>\n",
       "  </thead>\n",
       "  <tbody>\n",
       "    <tr>\n",
       "      <th>0</th>\n",
       "      <td>can you check whether its cancelled completely?</td>\n",
       "      <td>cancelled</td>\n",
       "      <td>can you check whether its cancelled completely</td>\n",
       "      <td>cancelled</td>\n",
       "      <td>1</td>\n",
       "    </tr>\n",
       "    <tr>\n",
       "      <th>1</th>\n",
       "      <td>cannot rely on both milk delivery and grocery items.</td>\n",
       "      <td>Milk</td>\n",
       "      <td>cannot rely on both milk delivery and grocery items</td>\n",
       "      <td>Milk</td>\n",
       "      <td>0</td>\n",
       "    </tr>\n",
       "    <tr>\n",
       "      <th>2</th>\n",
       "      <td>I get no notification, however the app is really fine</td>\n",
       "      <td>notification</td>\n",
       "      <td>I get no notification however the app is really fine</td>\n",
       "      <td>notification</td>\n",
       "      <td>0</td>\n",
       "    </tr>\n",
       "    <tr>\n",
       "      <th>3</th>\n",
       "      <td>Love this app, but would love it even more if Gantt charts and Calendar view were available on iPhone!</td>\n",
       "      <td>view</td>\n",
       "      <td>Love this app but would love it even more if Gantt charts and Calendar view were available on iPhone</td>\n",
       "      <td>view</td>\n",
       "      <td>1</td>\n",
       "    </tr>\n",
       "    <tr>\n",
       "      <th>4</th>\n",
       "      <td>it does not let me load a clip on the scene</td>\n",
       "      <td>load</td>\n",
       "      <td>it does not let me load a clip on the scene</td>\n",
       "      <td>load</td>\n",
       "      <td>0</td>\n",
       "    </tr>\n",
       "  </tbody>\n",
       "</table>\n",
       "</div>"
      ],
      "text/plain": [
       "                                                                                                     text  \\\n",
       "0  can you check whether its cancelled completely?                                                          \n",
       "1  cannot rely on both milk delivery and grocery items.                                                     \n",
       "2  I get no notification, however the app is really fine                                                    \n",
       "3  Love this app, but would love it even more if Gantt charts and Calendar view were available on iPhone!   \n",
       "4  it does not let me load a clip on the scene                                                              \n",
       "\n",
       "         aspect  \\\n",
       "0  cancelled      \n",
       "1  Milk           \n",
       "2  notification   \n",
       "3  view           \n",
       "4  load           \n",
       "\n",
       "                                                                                           cleaned_text  \\\n",
       "0  can you check whether its cancelled completely                                                         \n",
       "1  cannot rely on both milk delivery and grocery items                                                    \n",
       "2  I get no notification however the app is really fine                                                   \n",
       "3  Love this app but would love it even more if Gantt charts and Calendar view were available on iPhone   \n",
       "4  it does not let me load a clip on the scene                                                            \n",
       "\n",
       "  cleaned_aspect  label  \n",
       "0  cancelled      1      \n",
       "1  Milk           0      \n",
       "2  notification   0      \n",
       "3  view           1      \n",
       "4  load           0      "
      ]
     },
     "execution_count": 168,
     "metadata": {},
     "output_type": "execute_result"
    }
   ],
   "source": [
    "train_df.head()"
   ]
  },
  {
   "cell_type": "code",
   "execution_count": 169,
   "metadata": {
    "colab": {
     "base_uri": "https://localhost:8080/"
    },
    "id": "mK1shlHiPUuy",
    "outputId": "d3343aa8-9f49-4fbb-ce0e-d006fbebb9d3"
   },
   "outputs": [
    {
     "data": {
      "text/plain": [
       "1442"
      ]
     },
     "execution_count": 169,
     "metadata": {},
     "output_type": "execute_result"
    }
   ],
   "source": [
    "max(train_df['cleaned_text'].apply(lambda txt : len(txt)))"
   ]
  },
  {
   "cell_type": "code",
   "execution_count": 170,
   "metadata": {
    "colab": {
     "base_uri": "https://localhost:8080/"
    },
    "id": "n7PRK2f8PWl7",
    "outputId": "4eef8d3b-ab77-4b2d-ada9-28dd9cfcb2f3"
   },
   "outputs": [
    {
     "data": {
      "text/plain": [
       "1607"
      ]
     },
     "execution_count": 170,
     "metadata": {},
     "output_type": "execute_result"
    }
   ],
   "source": [
    "max(test_df['cleaned_text'].apply(lambda txt : len(txt)))"
   ]
  },
  {
   "cell_type": "code",
   "execution_count": 171,
   "metadata": {
    "colab": {
     "base_uri": "https://localhost:8080/"
    },
    "id": "R1jbiMy09_C8",
    "outputId": "9d6a2453-0c68-4f76-9fae-09dc65480415"
   },
   "outputs": [
    {
     "data": {
      "text/plain": [
       "1607"
      ]
     },
     "execution_count": 171,
     "metadata": {},
     "output_type": "execute_result"
    }
   ],
   "source": [
    "# maximum length of the text present in the given dataset\n",
    "max_len=max(max(train_df['cleaned_text'].apply(lambda txt : len(txt))), max(test_df['cleaned_text'].apply(lambda txt : len(txt))))\n",
    "max_len"
   ]
  },
  {
   "cell_type": "markdown",
   "metadata": {
    "id": "YY2_tAL6M0Vp"
   },
   "source": [
    "## Using BERT For Our Task"
   ]
  },
  {
   "cell_type": "code",
   "execution_count": null,
   "metadata": {},
   "outputs": [],
   "source": [
    "#train_df.to_csv('/content/drive/MyDrive/absa/data/clean_train.csv', index=False)\n",
    "#test_df.to_csv('/content/drive/MyDrive/absa/data/clean_test.csv', index=False)"
   ]
  },
  {
   "cell_type": "code",
   "execution_count": 14,
   "metadata": {},
   "outputs": [],
   "source": [
    "clean_train_path = '/home2/jhansi.mallela/research_naman/absa/data/clean_train.csv'\n",
    "clean_test_path = '/home2/jhansi.mallela/research_naman/absa/data/clean_test.csv'"
   ]
  },
  {
   "cell_type": "code",
   "execution_count": 15,
   "metadata": {},
   "outputs": [],
   "source": [
    "train_df = pd.read_csv(clean_train_path)\n",
    "#test_df = pd.read_csv(clean_test_path)"
   ]
  },
  {
   "cell_type": "code",
   "execution_count": 16,
   "metadata": {
    "id": "SBrbftD2M-cS"
   },
   "outputs": [],
   "source": [
    "import transformers as tr"
   ]
  },
  {
   "cell_type": "code",
   "execution_count": 17,
   "metadata": {
    "id": "TwZYXHFFNBRt"
   },
   "outputs": [],
   "source": [
    "#model_class, tokenizer_class, pretrained_weights = (tr.DistilBertModel, tr.DistilBertTokenizer, 'distilbert-base-uncased')\n",
    "\n",
    "## For regular BERT:\n",
    "model_class, tokenizer_class, pretrained_weights = (tr.BertModel, tr.BertTokenizer, 'bert-base-cased')\n",
    "\n",
    "# Load pretrained model/tokenizer\n",
    "tokenizer = tokenizer_class.from_pretrained(pretrained_weights)\n",
    "#model = model_class.from_pretrained(pretrained_weights)"
   ]
  },
  {
   "cell_type": "code",
   "execution_count": 295,
   "metadata": {
    "colab": {
     "base_uri": "https://localhost:8080/"
    },
    "id": "LCWAOx4XzTan",
    "outputId": "41efd72c-c733-4779-843c-00fab5f7fff1"
   },
   "outputs": [],
   "source": [
    "# for distribution of the length of the tokens of train data text\n",
    "\n",
    "import logging\n",
    "logging.basicConfig(level=logging.ERROR) \n",
    "\n",
    "train_token_lens = []\n",
    "for txt in train_df.cleaned_text:\n",
    "    tokens = tokenizer.encode(txt, max_length = 512)\n",
    "    train_token_lens.append(len(tokens))"
   ]
  },
  {
   "cell_type": "code",
   "execution_count": 296,
   "metadata": {
    "colab": {
     "base_uri": "https://localhost:8080/",
     "height": 282
    },
    "id": "_hsXensh0U-T",
    "outputId": "a256af99-c7c7-4eaa-979d-5acd42428e68"
   },
   "outputs": [
    {
     "data": {
      "text/plain": [
       "<AxesSubplot:ylabel='Density'>"
      ]
     },
     "execution_count": 296,
     "metadata": {},
     "output_type": "execute_result"
    },
    {
     "data": {
      "image/png": "[encoded data removed]",
      "text/plain": [
       "<Figure size 432x288 with 1 Axes>"
      ]
     },
     "metadata": {
      "needs_background": "light"
     },
     "output_type": "display_data"
    }
   ],
   "source": [
    "sns.distplot(train_token_lens)"
   ]
  },
  {
   "cell_type": "code",
   "execution_count": 297,
   "metadata": {
    "colab": {
     "base_uri": "https://localhost:8080/"
    },
    "id": "q3UoXo-2N64B",
    "outputId": "76036a38-653b-4547-93d3-313d25c7cf47"
   },
   "outputs": [
    {
     "data": {
      "text/plain": [
       "303"
      ]
     },
     "execution_count": 297,
     "metadata": {},
     "output_type": "execute_result"
    }
   ],
   "source": [
    "max(train_token_lens)"
   ]
  },
  {
   "cell_type": "code",
   "execution_count": 298,
   "metadata": {
    "id": "G5U8RkFs0g5W"
   },
   "outputs": [],
   "source": [
    "# for distribution of the length of the tokens of test data text\n",
    "\n",
    "logging.basicConfig(level=logging.ERROR)\n",
    "\n",
    "test_token_lens = []\n",
    "for txt in test_df.cleaned_text:\n",
    "    tokens = tokenizer.encode(txt, max_length = 512)\n",
    "    test_token_lens.append(len(tokens))"
   ]
  },
  {
   "cell_type": "code",
   "execution_count": 299,
   "metadata": {
    "colab": {
     "base_uri": "https://localhost:8080/",
     "height": 282
    },
    "id": "6kCtMgAN04Cl",
    "outputId": "34dac699-5c68-44fe-d474-60fed81afb08"
   },
   "outputs": [
    {
     "data": {
      "text/plain": [
       "<AxesSubplot:ylabel='Density'>"
      ]
     },
     "execution_count": 299,
     "metadata": {},
     "output_type": "execute_result"
    },
    {
     "data": {
      "image/png": "[encoded data removed]",
      "text/plain": [
       "<Figure size 432x288 with 1 Axes>"
      ]
     },
     "metadata": {
      "needs_background": "light"
     },
     "output_type": "display_data"
    }
   ],
   "source": [
    "sns.distplot(test_token_lens)"
   ]
  },
  {
   "cell_type": "code",
   "execution_count": 300,
   "metadata": {
    "colab": {
     "base_uri": "https://localhost:8080/"
    },
    "id": "_ijMMuSO2Wie",
    "outputId": "04d3c15e-578f-4b2d-d389-003b81cfeb70"
   },
   "outputs": [
    {
     "data": {
      "text/plain": [
       "365"
      ]
     },
     "execution_count": 300,
     "metadata": {},
     "output_type": "execute_result"
    }
   ],
   "source": [
    "max(test_token_lens)"
   ]
  },
  {
   "cell_type": "code",
   "execution_count": 175,
   "metadata": {
    "id": "RAEU-kWXZXmZ"
   },
   "outputs": [],
   "source": [
    "# building up the custom dataset class for our datset\n",
    "class ABSA_Dataset(Dataset):\n",
    "    def __init__(self, texts, aspects, targets, tokenizer, max_len):\n",
    "        self.texts = texts\n",
    "        self.aspects = aspects\n",
    "        self.targets = targets\n",
    "        self.tokenizer = tokenizer\n",
    "        self.max_len = max_len\n",
    "\n",
    "\n",
    "    def __len__(self):\n",
    "        return len(self.texts)\n",
    "\n",
    "\n",
    "    def __getitem__(self, index):\n",
    "        text = str(self.texts[index])\n",
    "        aspect = str(self.aspects[index])\n",
    "        target = self.targets[index]\n",
    "        \n",
    "        encoding = self.tokenizer(\n",
    "          text,\n",
    "          aspect,\n",
    "          add_special_tokens = True,\n",
    "          max_length = self.max_len,\n",
    "          return_token_type_ids = False,\n",
    "          padding = 'max_length',\n",
    "          truncation = True,\n",
    "          return_attention_mask = True,\n",
    "          return_tensors = 'pt',\n",
    "        )\n",
    "\n",
    "        return {\n",
    "          'text': text,\n",
    "          'aspect': aspect,\n",
    "          'input_ids': encoding['input_ids'].flatten(),  # from torch.Size([1,max_len]) to torch.Size([max_len])\n",
    "          'attention_mask': encoding['attention_mask'].flatten(),\n",
    "          'targets': torch.tensor(target, dtype=torch.long)\n",
    "        }"
   ]
  },
  {
   "cell_type": "code",
   "execution_count": 176,
   "metadata": {},
   "outputs": [],
   "source": [
    "def regular_train_test_split(train_df):\n",
    "    \n",
    "    df_train, df_test = train_test_split(\n",
    "      train_df,\n",
    "      test_size=conf.TRAIN_VAL_SPLIT,\n",
    "      random_state=conf.RANDOM_SEED\n",
    "    )\n",
    "\n",
    "    df_val, df_test = train_test_split(\n",
    "      df_test,\n",
    "      test_size=conf.VAL_TEST_SPLIT,\n",
    "      random_state=conf.RANDOM_SEED\n",
    "    )\n",
    "    \n",
    "    return df_train, df_val, df_test"
   ]
  },
  {
   "cell_type": "code",
   "execution_count": 177,
   "metadata": {
    "id": "jneSeEAN81Nc"
   },
   "outputs": [],
   "source": [
    "# splitting the training data using regular train_test_split of scikit learn\n",
    "\n",
    "#df_train, df_val, df_test = regular_train_test_split(train_df)\n",
    "#df_train.shape, df_val.shape, df_test.shape "
   ]
  },
  {
   "cell_type": "code",
   "execution_count": 195,
   "metadata": {},
   "outputs": [],
   "source": [
    "def define_folds(df):\n",
    "    \n",
    "    df[\"kfold\"] = -1\n",
    "    df = df.sample(frac=1).reset_index(drop=True)\n",
    "    y = df.label.values\n",
    "    kf = model_selection.StratifiedKFold(n_splits=5)\n",
    "    \n",
    "    for f, (t_, v_) in enumerate(kf.split(X=df, y=y)):\n",
    "        df.loc[v_, 'kfold'] = f\n",
    "        \n",
    "    df.to_csv(f'{conf.data_path}/train_folds.csv', index=False)\n",
    "        \n",
    "    return df"
   ]
  },
  {
   "cell_type": "code",
   "execution_count": 197,
   "metadata": {},
   "outputs": [],
   "source": [
    "train_df = define_folds(train_df)"
   ]
  },
  {
   "cell_type": "code",
   "execution_count": 201,
   "metadata": {},
   "outputs": [],
   "source": [
    "fold = 0"
   ]
  },
  {
   "cell_type": "code",
   "execution_count": 202,
   "metadata": {},
   "outputs": [],
   "source": [
    "df_train = train_df[train_df['kfold'] != fold]\n",
    "df_valid = train_df[train_df['kfold'] == fold]"
   ]
  },
  {
   "cell_type": "code",
   "execution_count": 203,
   "metadata": {
    "id": "4JoR7Pop9Gxq"
   },
   "outputs": [],
   "source": [
    "# function for creating dataloaders for train and test datasets\n",
    "\n",
    "def create_dataloader(df, tokenizer, max_len, batch_size, shuffle=False):\n",
    "    \n",
    "    dataset = ABSA_Dataset(\n",
    "        texts = df.cleaned_text.to_numpy(),\n",
    "        aspects = df.cleaned_aspect.to_numpy(),\n",
    "        targets = df.label.to_numpy(),\n",
    "        tokenizer = tokenizer,\n",
    "        max_len = max_len\n",
    "      )\n",
    "\n",
    "    dataloader = DataLoader(dataset, batch_size = batch_size, num_workers = conf.num_workers, shuffle = shuffle)\n",
    "    return dataloader\n"
   ]
  },
  {
   "cell_type": "code",
   "execution_count": 24,
   "metadata": {},
   "outputs": [],
   "source": [
    "def return_tokenizer():\n",
    "    \n",
    "    if conf.bert_base_model:\n",
    "        if conf.case_based_model:\n",
    "            tokenizer = tr.BertTokenizer.from_pretrained('bert-base-cased')\n",
    "        else:\n",
    "             tokenizer = tr.BertTokenizer.from_pretrained('bert-base-uncased')\n",
    "    else:\n",
    "        if conf.case_based_model:\n",
    "            tokenizer = tr.DistilBertTokenizer.from_pretrained('distilbert-base-cased')\n",
    "        else:\n",
    "            tokenizer = tr.DistilBertTokenizer.from_pretrained('distilbert-base-uncased')\n",
    "        \n",
    "    return tokenizer"
   ]
  },
  {
   "cell_type": "code",
   "execution_count": 25,
   "metadata": {},
   "outputs": [],
   "source": [
    "tokenizer = return_tokenizer()"
   ]
  },
  {
   "cell_type": "code",
   "execution_count": 206,
   "metadata": {
    "id": "1hrXP3hCLJ9p"
   },
   "outputs": [],
   "source": [
    "# setting up the train and validation dataloaders\n",
    "train_dataloader = create_dataloader(df_train, tokenizer, conf.MAX_LEN, conf.BATCH_SIZE, conf.train_shuffle)\n",
    "val_dataloader = create_dataloader(df_val, tokenizer, conf.MAX_LEN, conf.BATCH_SIZE, conf.train_shuffle)\n",
    "#test_dataloader = create_dataloader(df_test, tokenizer, conf.MAX_LEN, conf.BATCH_SIZE, conf.valid_shuffle)"
   ]
  },
  {
   "cell_type": "code",
   "execution_count": 207,
   "metadata": {
    "colab": {
     "base_uri": "https://localhost:8080/"
    },
    "id": "5Y4dGCZT9G8P",
    "outputId": "9df33ba0-0991-4d5b-a448-09f2eb306360"
   },
   "outputs": [
    {
     "data": {
      "text/plain": [
       "dict_keys(['text', 'aspect', 'input_ids', 'attention_mask', 'targets'])"
      ]
     },
     "execution_count": 207,
     "metadata": {},
     "output_type": "execute_result"
    }
   ],
   "source": [
    "data = next(iter(train_dataloader))\n",
    "data.keys()"
   ]
  },
  {
   "cell_type": "code",
   "execution_count": 208,
   "metadata": {
    "colab": {
     "base_uri": "https://localhost:8080/"
    },
    "id": "r5XztTdtKLzL",
    "outputId": "3480479c-4a7a-45f0-e0cd-b40cc180e2a9"
   },
   "outputs": [
    {
     "name": "stdout",
     "output_type": "stream",
     "text": [
      "torch.Size([16, 250])\n",
      "torch.Size([16, 250])\n",
      "torch.Size([16])\n"
     ]
    }
   ],
   "source": [
    "# example batch from out training dataloader\n",
    "\n",
    "print(data['input_ids'].shape)\n",
    "print(data['attention_mask'].shape)\n",
    "print(data['targets'].shape)"
   ]
  },
  {
   "cell_type": "code",
   "execution_count": 209,
   "metadata": {
    "colab": {
     "base_uri": "https://localhost:8080/"
    },
    "id": "eWIUgmmpP1Px",
    "outputId": "037236b9-d5cd-49e2-8883-8496a63e5d25",
    "scrolled": true
   },
   "outputs": [
    {
     "data": {
      "text/plain": [
       "tensor([  101,  2274,  6776,  1106,  6829,   102, 26713,   102,     0,     0,\n",
       "            0,     0,     0,     0,     0,     0,     0,     0,     0,     0,\n",
       "            0,     0,     0,     0,     0,     0,     0,     0,     0,     0,\n",
       "            0,     0,     0,     0,     0,     0,     0,     0,     0,     0,\n",
       "            0,     0,     0,     0,     0,     0,     0,     0,     0,     0,\n",
       "            0,     0,     0,     0,     0,     0,     0,     0,     0,     0,\n",
       "            0,     0,     0,     0,     0,     0,     0,     0,     0,     0,\n",
       "            0,     0,     0,     0,     0,     0,     0,     0,     0,     0,\n",
       "            0,     0,     0,     0,     0,     0,     0,     0,     0,     0,\n",
       "            0,     0,     0,     0,     0,     0,     0,     0,     0,     0,\n",
       "            0,     0,     0,     0,     0,     0,     0,     0,     0,     0,\n",
       "            0,     0,     0,     0,     0,     0,     0,     0,     0,     0,\n",
       "            0,     0,     0,     0,     0,     0,     0,     0,     0,     0,\n",
       "            0,     0,     0,     0,     0,     0,     0,     0,     0,     0,\n",
       "            0,     0,     0,     0,     0,     0,     0,     0,     0,     0,\n",
       "            0,     0,     0,     0,     0,     0,     0,     0,     0,     0,\n",
       "            0,     0,     0,     0,     0,     0,     0,     0,     0,     0,\n",
       "            0,     0,     0,     0,     0,     0,     0,     0,     0,     0,\n",
       "            0,     0,     0,     0,     0,     0,     0,     0,     0,     0,\n",
       "            0,     0,     0,     0,     0,     0,     0,     0,     0,     0,\n",
       "            0,     0,     0,     0,     0,     0,     0,     0,     0,     0,\n",
       "            0,     0,     0,     0,     0,     0,     0,     0,     0,     0,\n",
       "            0,     0,     0,     0,     0,     0,     0,     0,     0,     0,\n",
       "            0,     0,     0,     0,     0,     0,     0,     0,     0,     0,\n",
       "            0,     0,     0,     0,     0,     0,     0,     0,     0,     0])"
      ]
     },
     "execution_count": 209,
     "metadata": {},
     "output_type": "execute_result"
    }
   ],
   "source": [
    "data['input_ids'][0]"
   ]
  },
  {
   "cell_type": "markdown",
   "metadata": {
    "id": "04TfPb5JjYr2"
   },
   "source": [
    "### Defining The Model"
   ]
  },
  {
   "cell_type": "code",
   "execution_count": 20,
   "metadata": {
    "id": "ckxLd00rTP67"
   },
   "outputs": [],
   "source": [
    "import transformers as tr\n",
    "\n",
    "class ABSA_Model(nn.Module):\n",
    "    \n",
    "    def __init__(self, dropout = 0.5):\n",
    "        super(ABSA_Model, self).__init__()\n",
    "\n",
    "        self.bert_model = tr.BertModel.from_pretrained('bert-base-cased') \n",
    "        #self.bert_model = tr.DistilBertModel.from_pretrained('distilbert-base-cased')\n",
    "        self.dropout = nn.Dropout(dropout)\n",
    "        self.fc1 = nn.Linear(768, 3)\n",
    "        #self.relu = nn.ReLU()\n",
    "        self.softmax = nn.LogSoftmax(dim=1)\n",
    "\n",
    "    def forward(self, input_ids, mask):\n",
    "\n",
    "        _, pooled_output = self.bert_model(input_ids = input_ids, attention_mask = mask, return_dict = False) # BertModel\n",
    "        # third argument in self.bert_model for avoiding this error: TypeError: dropout(): argument 'input' (position 1) must be Tensor, not str\n",
    "        # otherwise, do this:\n",
    "        #output_dict = self.bert_model(input_ids = input_ids, attention_mask = mask)\n",
    "        #last_hidden_state = output_dict['last_hidden_state']\n",
    "        #pooled_output = output_dict['pooler_output']\n",
    "        #print(outputs)\n",
    "        \n",
    "        #outputs = self.bert_model(input_ids = input_ids, attention_mask = mask) # DistilBertModel\n",
    "        # outputs is of shape (batch_size, max_seq_len, hidden_size), hidden_size here = 768\n",
    "        #pooled_output = outputs[0][:,0,:] # shape = (batch_size, 768), output corresponding to cls token for all batch_size\n",
    "                                          # number of texts\n",
    "\n",
    "        #print(pooled_output.shape)\n",
    "        x = self.dropout(pooled_output)\n",
    "        x = self.fc1(x)\n",
    "        #x = self.relu(x)\n",
    "        x = self.softmax(x)\n",
    "\n",
    "        return x"
   ]
  },
  {
   "cell_type": "code",
   "execution_count": 27,
   "metadata": {
    "id": "w6O5ResAZ4rd"
   },
   "outputs": [],
   "source": [
    "device = torch.device(\"cuda\" if torch.cuda.is_available() else \"cpu\")\n",
    "#device = torch.device('cpu')"
   ]
  },
  {
   "cell_type": "code",
   "execution_count": 28,
   "metadata": {
    "colab": {
     "base_uri": "https://localhost:8080/"
    },
    "id": "yT9Gr8Zbotli",
    "outputId": "11c8e597-f17f-4c9f-a616-803babeb8c7a"
   },
   "outputs": [
    {
     "data": {
      "text/plain": [
       "device(type='cuda')"
      ]
     },
     "execution_count": 28,
     "metadata": {},
     "output_type": "execute_result"
    }
   ],
   "source": [
    "device"
   ]
  },
  {
   "cell_type": "code",
   "execution_count": 29,
   "metadata": {
    "colab": {
     "base_uri": "https://localhost:8080/"
    },
    "id": "kJZ-68cdXBHm",
    "outputId": "d2021a71-b391-4863-95f4-47fce0e63953",
    "scrolled": true
   },
   "outputs": [
    {
     "name": "stderr",
     "output_type": "stream",
     "text": [
      "Some weights of the model checkpoint at bert-base-cased were not used when initializing BertModel: ['cls.predictions.transform.LayerNorm.weight', 'cls.predictions.transform.dense.weight', 'cls.predictions.transform.dense.bias', 'cls.seq_relationship.weight', 'cls.predictions.bias', 'cls.seq_relationship.bias', 'cls.predictions.transform.LayerNorm.bias', 'cls.predictions.decoder.weight']\n",
      "- This IS expected if you are initializing BertModel from the checkpoint of a model trained on another task or with another architecture (e.g. initializing a BertForSequenceClassification model from a BertForPreTraining model).\n",
      "- This IS NOT expected if you are initializing BertModel from the checkpoint of a model that you expect to be exactly identical (initializing a BertForSequenceClassification model from a BertForSequenceClassification model).\n"
     ]
    }
   ],
   "source": [
    "model = ABSA_Model()\n",
    "model = model.to(device)"
   ]
  },
  {
   "cell_type": "code",
   "execution_count": 30,
   "metadata": {
    "id": "qIRTVRsBAv47"
   },
   "outputs": [],
   "source": [
    "input_ids = data['input_ids'].to(device)\n",
    "attention_mask = data['attention_mask'].to(device)"
   ]
  },
  {
   "cell_type": "code",
   "execution_count": 31,
   "metadata": {
    "colab": {
     "base_uri": "https://localhost:8080/"
    },
    "id": "CGhCutjFi8Yq",
    "outputId": "f3bed5a4-88f1-4f3a-f7de-e7aa9686faf3"
   },
   "outputs": [
    {
     "name": "stdout",
     "output_type": "stream",
     "text": [
      "torch.Size([16, 250])\n",
      "torch.Size([16, 250])\n"
     ]
    }
   ],
   "source": [
    "print(input_ids.shape) # batch size x seq length\n",
    "print(attention_mask.shape) # batch size x seq length"
   ]
  },
  {
   "cell_type": "code",
   "execution_count": 32,
   "metadata": {
    "id": "43zLNrgFjvHs"
   },
   "outputs": [],
   "source": [
    "x=model(input_ids, attention_mask)"
   ]
  },
  {
   "cell_type": "code",
   "execution_count": 33,
   "metadata": {
    "colab": {
     "base_uri": "https://localhost:8080/"
    },
    "id": "-9RgxdBWnzy0",
    "outputId": "8b545922-878f-4def-ef95-4dd4c8258352"
   },
   "outputs": [
    {
     "data": {
      "text/plain": [
       "tensor([[-1.5874, -1.4867, -0.5631],\n",
       "        [-1.2736, -1.3902, -0.7526],\n",
       "        [-2.0016, -0.6715, -1.0386],\n",
       "        [-2.1425, -1.0428, -0.6346],\n",
       "        [-1.6493, -1.0943, -0.7486],\n",
       "        [-1.5032, -1.2577, -0.7067],\n",
       "        [-1.7235, -1.3495, -0.5759],\n",
       "        [-2.4171, -0.7468, -0.8280],\n",
       "        [-1.2000, -1.2837, -0.8633],\n",
       "        [-1.8696, -1.8801, -0.3664],\n",
       "        [-1.4500, -0.8310, -1.1092],\n",
       "        [-1.7277, -1.3721, -0.5644],\n",
       "        [-1.2882, -1.6599, -0.6272],\n",
       "        [-1.6394, -0.8740, -0.9451],\n",
       "        [-1.0431, -1.3158, -0.9692],\n",
       "        [-0.7324, -1.2650, -1.4396]], device='cuda:0',\n",
       "       grad_fn=<LogSoftmaxBackward>)"
      ]
     },
     "execution_count": 33,
     "metadata": {},
     "output_type": "execute_result"
    }
   ],
   "source": [
    "x"
   ]
  },
  {
   "cell_type": "markdown",
   "metadata": {
    "id": "XOnI7sj076_V"
   },
   "source": [
    "### Training and Validation"
   ]
  },
  {
   "cell_type": "code",
   "execution_count": 217,
   "metadata": {
    "id": "14v_MJld7-El"
   },
   "outputs": [],
   "source": [
    "optimizer = tr.AdamW(model.parameters(), lr=conf.learning_rate, correct_bias=False)\n",
    "total_steps = len(train_dataloader) * conf.EPOCHS\n",
    "\n",
    "scheduler = tr.get_linear_schedule_with_warmup(\n",
    "  optimizer,\n",
    "  num_warmup_steps=0,\n",
    "  num_training_steps=total_steps\n",
    ")\n",
    "\n",
    "loss_fn = nn.NLLLoss().to(device)"
   ]
  },
  {
   "cell_type": "code",
   "execution_count": 218,
   "metadata": {
    "id": "NvBoqVlM8q3j"
   },
   "outputs": [],
   "source": [
    "def train_fn(model, data_loader, loss_fn, optimizer, device, scheduler, n_examples):\n",
    "    \n",
    "    model = model.train()\n",
    "    losses = []\n",
    "    correct_predictions = 0\n",
    "\n",
    "    for data in data_loader:\n",
    "\n",
    "        input_ids = data[\"input_ids\"].to(device)\n",
    "        attention_mask = data[\"attention_mask\"].to(device)\n",
    "        targets = data[\"targets\"].to(device)\n",
    "\n",
    "        outputs = model(input_ids, attention_mask)\n",
    "\n",
    "        _, preds = torch.max(outputs, dim=1)\n",
    "        loss = loss_fn(outputs, targets)\n",
    "\n",
    "        correct_predictions += torch.sum(preds == targets)\n",
    "\n",
    "        losses.append(loss.item())\n",
    "        loss.backward()\n",
    "\n",
    "        nn.utils.clip_grad_norm_(model.parameters(), max_norm=1.0)\n",
    "        optimizer.step()\n",
    "        scheduler.step()\n",
    "        optimizer.zero_grad()\n",
    "\n",
    "    return correct_predictions.double() / n_examples, np.mean(losses)"
   ]
  },
  {
   "cell_type": "code",
   "execution_count": 219,
   "metadata": {
    "id": "IG67GdkX-YMz"
   },
   "outputs": [],
   "source": [
    "def eval_fn(model, data_loader, loss_fn, device, n_examples):\n",
    "    \n",
    "    model = model.eval()\n",
    "    losses = []\n",
    "    correct_predictions = 0\n",
    "\n",
    "    with torch.no_grad():\n",
    "        for data in data_loader:\n",
    "            \n",
    "            input_ids = data[\"input_ids\"].to(device)\n",
    "            attention_mask = data[\"attention_mask\"].to(device)\n",
    "            targets = data[\"targets\"].to(device)\n",
    "\n",
    "            outputs = model(input_ids, attention_mask)\n",
    "\n",
    "            _, preds = torch.max(outputs, dim=1)\n",
    "            loss = loss_fn(outputs, targets)\n",
    "\n",
    "            correct_predictions += torch.sum(preds == targets)\n",
    "\n",
    "            losses.append(loss.item())\n",
    "\n",
    "    return correct_predictions.double() / n_examples, np.mean(losses)"
   ]
  },
  {
   "cell_type": "code",
   "execution_count": 220,
   "metadata": {
    "colab": {
     "base_uri": "https://localhost:8080/"
    },
    "id": "zGhWuBjf-XbL",
    "outputId": "a76005c6-84e7-43e8-ab0d-4757c0b6bd08",
    "scrolled": true
   },
   "outputs": [
    {
     "name": "stdout",
     "output_type": "stream",
     "text": [
      "CPU times: user 22 µs, sys: 0 ns, total: 22 µs\n",
      "Wall time: 28.1 µs\n"
     ]
    }
   ],
   "source": [
    "%%time\n",
    "\n",
    "def execute(model, train_dataloader, val_dataloader, loss_fn, optimizer, device, scheduler, train_df_len, val_df_len):\n",
    "    history = defaultdict(list)\n",
    "    best_accuracy = 0\n",
    "\n",
    "    for epoch in range(conf.EPOCHS):\n",
    "\n",
    "        print(f'Epoch {epoch + 1}/{conf.EPOCHS}')\n",
    "        print('-' * 10)\n",
    "\n",
    "        train_acc, train_loss = train_fn(model, train_dataloader, loss_fn, optimizer, device, scheduler, train_df_len)\n",
    "\n",
    "        print(f'Train loss: {train_loss}, Train Accuracy: {train_acc*100}')\n",
    "\n",
    "        val_acc, val_loss = eval_fn(model, val_dataloader, loss_fn, device, val_df_len)\n",
    "\n",
    "        print(f'Validation loss: {val_loss}, Validation Accuracy: {val_acc*100}')\n",
    "        print()\n",
    "\n",
    "        history['train_acc'].append(train_acc)\n",
    "        history['train_loss'].append(train_loss)\n",
    "        history['val_acc'].append(val_acc)\n",
    "        history['val_loss'].append(val_loss)\n",
    "\n",
    "        if val_acc > best_accuracy:\n",
    "            torch.save(model.state_dict(), f'{conf.model_save_path}/best_model_state.bin')\n",
    "            best_accuracy = val_acc\n",
    "        \n",
    "    print('Execution Complete')\n",
    "    print('-' * 10)\n",
    "\n",
    "    return history"
   ]
  },
  {
   "cell_type": "code",
   "execution_count": 221,
   "metadata": {},
   "outputs": [],
   "source": [
    "tr.logging.set_verbosity_error()"
   ]
  },
  {
   "cell_type": "code",
   "execution_count": 223,
   "metadata": {
    "colab": {
     "base_uri": "https://localhost:8080/",
     "height": 380
    },
    "id": "OJBRaDmZBC-o",
    "outputId": "29c62912-3f37-43f0-98b2-5b3c83507f49",
    "scrolled": true
   },
   "outputs": [
    {
     "name": "stdout",
     "output_type": "stream",
     "text": [
      "Epoch 1/20\n",
      "----------\n",
      "Train loss: 0.6260511703044176, Train Accuracy: 74.9375\n",
      "Validation loss: 0.3892802819609642, Validation Accuracy: 87.16666666666667\n",
      "\n",
      "Epoch 2/20\n",
      "----------\n",
      "Train loss: 0.34803695395588874, Train Accuracy: 87.78125\n",
      "Validation loss: 0.2701019202604106, Validation Accuracy: 90.83333333333334\n",
      "\n",
      "Epoch 3/20\n",
      "----------\n",
      "Train loss: 0.19874331451486796, Train Accuracy: 94.03125\n",
      "Validation loss: 0.21582120100624466, Validation Accuracy: 94.66666666666667\n",
      "\n",
      "Epoch 4/20\n",
      "----------\n",
      "Train loss: 0.12899892925983295, Train Accuracy: 96.1875\n",
      "Validation loss: 0.22318994874551304, Validation Accuracy: 95.0\n",
      "\n",
      "Epoch 5/20\n",
      "----------\n",
      "Train loss: 0.07881170852284412, Train Accuracy: 98.03125\n",
      "Validation loss: 0.23450446278346995, Validation Accuracy: 95.0\n",
      "\n",
      "Epoch 6/20\n",
      "----------\n",
      "Train loss: 0.0665919295581989, Train Accuracy: 98.25\n",
      "Validation loss: 0.2355416471791135, Validation Accuracy: 95.0\n",
      "\n",
      "Epoch 7/20\n",
      "----------\n",
      "Train loss: 0.053948319894843735, Train Accuracy: 98.59375\n",
      "Validation loss: 0.2609214135874553, Validation Accuracy: 95.5\n",
      "\n",
      "Epoch 8/20\n",
      "----------\n",
      "Train loss: 0.045274795588338745, Train Accuracy: 98.96875\n",
      "Validation loss: 0.24719379271999442, Validation Accuracy: 95.5\n",
      "\n",
      "Epoch 9/20\n",
      "----------\n",
      "Train loss: 0.031231665264785987, Train Accuracy: 99.25\n",
      "Validation loss: 0.23106935160850348, Validation Accuracy: 96.00000000000001\n",
      "\n",
      "Epoch 10/20\n",
      "----------\n",
      "Train loss: 0.022894945014850236, Train Accuracy: 99.40625\n",
      "Validation loss: 0.24386722013763287, Validation Accuracy: 96.16666666666667\n",
      "\n",
      "Epoch 11/20\n",
      "----------\n",
      "Train loss: 0.020430664477753453, Train Accuracy: 99.4375\n",
      "Validation loss: 0.2414104128160704, Validation Accuracy: 96.00000000000001\n",
      "\n",
      "Epoch 12/20\n",
      "----------\n",
      "Train loss: 0.01562941878430138, Train Accuracy: 99.53125\n",
      "Validation loss: 0.24759248342008122, Validation Accuracy: 96.16666666666667\n",
      "\n",
      "Epoch 13/20\n",
      "----------\n",
      "Train loss: 0.016415923802051112, Train Accuracy: 99.46875\n",
      "Validation loss: 0.2651712841533912, Validation Accuracy: 96.00000000000001\n",
      "\n",
      "Epoch 14/20\n",
      "----------\n",
      "Train loss: 0.00696411216071283, Train Accuracy: 99.75\n",
      "Validation loss: 0.2664464533629239, Validation Accuracy: 96.00000000000001\n",
      "\n",
      "Epoch 15/20\n",
      "----------\n",
      "Train loss: 0.01147006617498846, Train Accuracy: 99.6875\n",
      "Validation loss: 0.2716436932634296, Validation Accuracy: 96.00000000000001\n",
      "\n",
      "Epoch 16/20\n",
      "----------\n",
      "Train loss: 0.01004386005235574, Train Accuracy: 99.75\n",
      "Validation loss: 0.25804589115068666, Validation Accuracy: 96.00000000000001\n",
      "\n",
      "Epoch 17/20\n",
      "----------\n",
      "Train loss: 0.006875300270876323, Train Accuracy: 99.78125\n",
      "Validation loss: 0.27172845008489704, Validation Accuracy: 95.83333333333334\n",
      "\n",
      "Epoch 18/20\n",
      "----------\n",
      "Train loss: 0.006502315483121492, Train Accuracy: 99.75\n",
      "Validation loss: 0.2749623866833357, Validation Accuracy: 96.00000000000001\n",
      "\n",
      "Epoch 19/20\n",
      "----------\n",
      "Train loss: 0.0059610851702746005, Train Accuracy: 99.8125\n",
      "Validation loss: 0.2711621594864578, Validation Accuracy: 95.83333333333334\n",
      "\n",
      "Epoch 20/20\n",
      "----------\n",
      "Train loss: 0.005805856467559351, Train Accuracy: 99.78125\n",
      "Validation loss: 0.2729868712039637, Validation Accuracy: 95.83333333333334\n",
      "\n",
      "Execution Complete\n",
      "----------\n"
     ]
    }
   ],
   "source": [
    "history = execute(model, train_dataloader, val_dataloader, loss_fn, optimizer, device, scheduler, len(df_train), len(df_val))"
   ]
  },
  {
   "cell_type": "code",
   "execution_count": 224,
   "metadata": {
    "scrolled": true
   },
   "outputs": [
    {
     "data": {
      "text/plain": [
       "defaultdict(list,\n",
       "            {'train_acc': [tensor(0.7494, device='cuda:0', dtype=torch.float64),\n",
       "              tensor(0.8778, device='cuda:0', dtype=torch.float64),\n",
       "              tensor(0.9403, device='cuda:0', dtype=torch.float64),\n",
       "              tensor(0.9619, device='cuda:0', dtype=torch.float64),\n",
       "              tensor(0.9803, device='cuda:0', dtype=torch.float64),\n",
       "              tensor(0.9825, device='cuda:0', dtype=torch.float64),\n",
       "              tensor(0.9859, device='cuda:0', dtype=torch.float64),\n",
       "              tensor(0.9897, device='cuda:0', dtype=torch.float64),\n",
       "              tensor(0.9925, device='cuda:0', dtype=torch.float64),\n",
       "              tensor(0.9941, device='cuda:0', dtype=torch.float64),\n",
       "              tensor(0.9944, device='cuda:0', dtype=torch.float64),\n",
       "              tensor(0.9953, device='cuda:0', dtype=torch.float64),\n",
       "              tensor(0.9947, device='cuda:0', dtype=torch.float64),\n",
       "              tensor(0.9975, device='cuda:0', dtype=torch.float64),\n",
       "              tensor(0.9969, device='cuda:0', dtype=torch.float64),\n",
       "              tensor(0.9975, device='cuda:0', dtype=torch.float64),\n",
       "              tensor(0.9978, device='cuda:0', dtype=torch.float64),\n",
       "              tensor(0.9975, device='cuda:0', dtype=torch.float64),\n",
       "              tensor(0.9981, device='cuda:0', dtype=torch.float64),\n",
       "              tensor(0.9978, device='cuda:0', dtype=torch.float64)],\n",
       "             'train_loss': [0.6260511703044176,\n",
       "              0.34803695395588874,\n",
       "              0.19874331451486796,\n",
       "              0.12899892925983295,\n",
       "              0.07881170852284412,\n",
       "              0.0665919295581989,\n",
       "              0.053948319894843735,\n",
       "              0.045274795588338745,\n",
       "              0.031231665264785987,\n",
       "              0.022894945014850236,\n",
       "              0.020430664477753453,\n",
       "              0.01562941878430138,\n",
       "              0.016415923802051112,\n",
       "              0.00696411216071283,\n",
       "              0.01147006617498846,\n",
       "              0.01004386005235574,\n",
       "              0.006875300270876323,\n",
       "              0.006502315483121492,\n",
       "              0.0059610851702746005,\n",
       "              0.005805856467559351],\n",
       "             'val_acc': [tensor(0.8717, device='cuda:0', dtype=torch.float64),\n",
       "              tensor(0.9083, device='cuda:0', dtype=torch.float64),\n",
       "              tensor(0.9467, device='cuda:0', dtype=torch.float64),\n",
       "              tensor(0.9500, device='cuda:0', dtype=torch.float64),\n",
       "              tensor(0.9500, device='cuda:0', dtype=torch.float64),\n",
       "              tensor(0.9500, device='cuda:0', dtype=torch.float64),\n",
       "              tensor(0.9550, device='cuda:0', dtype=torch.float64),\n",
       "              tensor(0.9550, device='cuda:0', dtype=torch.float64),\n",
       "              tensor(0.9600, device='cuda:0', dtype=torch.float64),\n",
       "              tensor(0.9617, device='cuda:0', dtype=torch.float64),\n",
       "              tensor(0.9600, device='cuda:0', dtype=torch.float64),\n",
       "              tensor(0.9617, device='cuda:0', dtype=torch.float64),\n",
       "              tensor(0.9600, device='cuda:0', dtype=torch.float64),\n",
       "              tensor(0.9600, device='cuda:0', dtype=torch.float64),\n",
       "              tensor(0.9600, device='cuda:0', dtype=torch.float64),\n",
       "              tensor(0.9600, device='cuda:0', dtype=torch.float64),\n",
       "              tensor(0.9583, device='cuda:0', dtype=torch.float64),\n",
       "              tensor(0.9600, device='cuda:0', dtype=torch.float64),\n",
       "              tensor(0.9583, device='cuda:0', dtype=torch.float64),\n",
       "              tensor(0.9583, device='cuda:0', dtype=torch.float64)],\n",
       "             'val_loss': [0.3892802819609642,\n",
       "              0.2701019202604106,\n",
       "              0.21582120100624466,\n",
       "              0.22318994874551304,\n",
       "              0.23450446278346995,\n",
       "              0.2355416471791135,\n",
       "              0.2609214135874553,\n",
       "              0.24719379271999442,\n",
       "              0.23106935160850348,\n",
       "              0.24386722013763287,\n",
       "              0.2414104128160704,\n",
       "              0.24759248342008122,\n",
       "              0.2651712841533912,\n",
       "              0.2664464533629239,\n",
       "              0.2716436932634296,\n",
       "              0.25804589115068666,\n",
       "              0.27172845008489704,\n",
       "              0.2749623866833357,\n",
       "              0.2711621594864578,\n",
       "              0.2729868712039637]})"
      ]
     },
     "execution_count": 224,
     "metadata": {},
     "output_type": "execute_result"
    }
   ],
   "source": [
    "history"
   ]
  },
  {
   "cell_type": "code",
   "execution_count": 225,
   "metadata": {},
   "outputs": [],
   "source": [
    "train_acc = []\n",
    "val_acc = []\n",
    "for acc in history['train_acc']:\n",
    "    train_acc.append(acc.cpu().numpy())\n",
    "\n",
    "for acc in history['val_acc']:\n",
    "    val_acc.append(acc.cpu().numpy())"
   ]
  },
  {
   "cell_type": "code",
   "execution_count": 229,
   "metadata": {
    "scrolled": true
   },
   "outputs": [
    {
     "data": {
      "image/png": "[encoded data removed]",
      "text/plain": [
       "<Figure size 432x288 with 1 Axes>"
      ]
     },
     "metadata": {
      "needs_background": "light"
     },
     "output_type": "display_data"
    }
   ],
   "source": [
    "plt.plot(train_acc, label='train accuracy')\n",
    "plt.plot(val_acc, label='validation accuracy')\n",
    "plt.title('Training history')\n",
    "plt.ylabel('Accuracy')\n",
    "plt.xlabel('Epoch')\n",
    "plt.legend()\n",
    "plt.ylim([0, 1]);"
   ]
  },
  {
   "cell_type": "code",
   "execution_count": 240,
   "metadata": {},
   "outputs": [
    {
     "data": {
      "image/png": "[encoded data removed]",
      "text/plain": [
       "<Figure size 432x288 with 1 Axes>"
      ]
     },
     "metadata": {
      "needs_background": "light"
     },
     "output_type": "display_data"
    }
   ],
   "source": [
    "plt.plot(history['train_loss'], label='train loss')\n",
    "plt.plot(history['val_loss'], label='validation loss')\n",
    "plt.title('Training history')\n",
    "plt.ylabel('loss')\n",
    "plt.xlabel('Epoch')\n",
    "plt.legend()\n",
    "plt.ylim([0, 1]);"
   ]
  },
  {
   "cell_type": "code",
   "execution_count": 52,
   "metadata": {
    "id": "QXX1NSbu03VJ"
   },
   "outputs": [
    {
     "name": "stderr",
     "output_type": "stream",
     "text": [
      "Some weights of the model checkpoint at bert-base-cased were not used when initializing BertModel: ['cls.predictions.bias', 'cls.seq_relationship.bias', 'cls.seq_relationship.weight', 'cls.predictions.transform.LayerNorm.bias', 'cls.predictions.transform.dense.bias', 'cls.predictions.transform.dense.weight', 'cls.predictions.decoder.weight', 'cls.predictions.transform.LayerNorm.weight']\n",
      "- This IS expected if you are initializing BertModel from the checkpoint of a model trained on another task or with another architecture (e.g. initializing a BertForSequenceClassification model from a BertForPreTraining model).\n",
      "- This IS NOT expected if you are initializing BertModel from the checkpoint of a model that you expect to be exactly identical (initializing a BertForSequenceClassification model from a BertForSequenceClassification model).\n"
     ]
    }
   ],
   "source": [
    "model = ABSA_Model()\n",
    "model.load_state_dict(torch.load(f'{conf.model_save_path}/best_model_state.bin'))\n",
    "model = model.to(device)"
   ]
  },
  {
   "cell_type": "code",
   "execution_count": 269,
   "metadata": {
    "id": "4DuxhsAQ1CnW"
   },
   "outputs": [
    {
     "name": "stdout",
     "output_type": "stream",
     "text": [
      "0.9616666666666668\n"
     ]
    }
   ],
   "source": [
    "# accuracy on the test set \n",
    "test_acc, _ = eval_fn(model, val_dataloader, loss_fn, device, len(df_val))\n",
    "print(test_acc.item())"
   ]
  },
  {
   "cell_type": "code",
   "execution_count": 53,
   "metadata": {},
   "outputs": [],
   "source": [
    "class_names = ['Negative', 'Neutral', 'Positive']"
   ]
  },
  {
   "cell_type": "code",
   "execution_count": 272,
   "metadata": {
    "id": "XA-KLKXo1XTv"
   },
   "outputs": [],
   "source": [
    "def get_predictions(model, data_loader):\n",
    "    \n",
    "    model = model.eval()\n",
    "\n",
    "    texts = []\n",
    "    aspects = []\n",
    "    predictions = []\n",
    "    prediction_probs = []\n",
    "    real_values = []\n",
    "\n",
    "    with torch.no_grad():\n",
    "        for data in data_loader:\n",
    "\n",
    "            texts_ = data[\"text\"]\n",
    "            aspects_ = data[\"aspect\"]\n",
    "            input_ids = data[\"input_ids\"].to(device)\n",
    "            attention_mask = data[\"attention_mask\"].to(device)\n",
    "            targets = data[\"targets\"].to(device)\n",
    "\n",
    "            outputs = model(input_ids, attention_mask)\n",
    "            _, preds = torch.max(outputs, dim=1)\n",
    "\n",
    "            texts.extend(texts_)\n",
    "            aspects.extend(aspects_)\n",
    "            predictions.extend(preds)\n",
    "            prediction_probs.extend(outputs)\n",
    "            real_values.extend(targets)\n",
    "\n",
    "    predictions = torch.stack(predictions).cpu()\n",
    "    prediction_probs = torch.stack(prediction_probs).cpu()\n",
    "    real_values = torch.stack(real_values).cpu()\n",
    "\n",
    "    return texts, aspects, predictions, prediction_probs, real_values"
   ]
  },
  {
   "cell_type": "code",
   "execution_count": 273,
   "metadata": {
    "id": "FnuRdKgm18EG"
   },
   "outputs": [],
   "source": [
    "y_texts, y_aspects, y_pred, y_pred_probs, y_test = get_predictions(model, val_dataloader)"
   ]
  },
  {
   "cell_type": "code",
   "execution_count": 274,
   "metadata": {
    "id": "7riB3Y532r-7"
   },
   "outputs": [
    {
     "name": "stdout",
     "output_type": "stream",
     "text": [
      "              precision    recall  f1-score   support\n",
      "\n",
      "    Negative       0.97      0.98      0.98       255\n",
      "     Neutral       0.95      0.97      0.96       186\n",
      "    Positive       0.97      0.92      0.94       159\n",
      "\n",
      "    accuracy                           0.96       600\n",
      "   macro avg       0.96      0.96      0.96       600\n",
      "weighted avg       0.96      0.96      0.96       600\n",
      "\n"
     ]
    }
   ],
   "source": [
    "print(classification_report(y_test, y_pred, target_names=class_names))"
   ]
  },
  {
   "cell_type": "code",
   "execution_count": 275,
   "metadata": {
    "id": "GkHeia7S2sro",
    "scrolled": true
   },
   "outputs": [
    {
     "data": {
      "image/png": "[encoded data removed]",
      "text/plain": [
       "<Figure size 432x288 with 2 Axes>"
      ]
     },
     "metadata": {
      "needs_background": "light"
     },
     "output_type": "display_data"
    }
   ],
   "source": [
    "def show_confusion_matrix(confusion_matrix):\n",
    "    \n",
    "    hmap = sns.heatmap(confusion_matrix, annot=True, fmt=\"d\", cmap=\"Blues\")\n",
    "    hmap.yaxis.set_ticklabels(hmap.yaxis.get_ticklabels(), rotation=0, ha='right')\n",
    "    hmap.xaxis.set_ticklabels(hmap.xaxis.get_ticklabels(), rotation=30, ha='right')\n",
    "    plt.ylabel('True sentiment')\n",
    "    plt.xlabel('Predicted sentiment')\n",
    "    \n",
    "cm = confusion_matrix(y_test, y_pred)\n",
    "df_cm = pd.DataFrame(cm, index=class_names, columns=class_names)\n",
    "show_confusion_matrix(df_cm)"
   ]
  },
  {
   "cell_type": "code",
   "execution_count": 277,
   "metadata": {
    "id": "uQQegbVD2sug"
   },
   "outputs": [
    {
     "name": "stdout",
     "output_type": "stream",
     "text": [
      "note making experience unparalleled\n",
      "Note\n",
      "\n",
      "True sentiment: Positive\n"
     ]
    }
   ],
   "source": [
    "idx = 4\n",
    "\n",
    "text = y_texts[idx]\n",
    "aspect = y_aspects[idx]\n",
    "true_sentiment = y_test[idx]\n",
    "pred_df = pd.DataFrame({\n",
    "  'class_names': class_names,\n",
    "  'values': y_pred_probs[idx]\n",
    "})\n",
    "\n",
    "print(\"\\n\".join(wrap(text)))\n",
    "print(\"\\n\".join(wrap(aspect)))\n",
    "print()\n",
    "print(f'True sentiment: {class_names[true_sentiment]}')"
   ]
  },
  {
   "cell_type": "markdown",
   "metadata": {
    "id": "CJBHMNSQ3Jfo"
   },
   "source": [
    "#### Predicting on raw text"
   ]
  },
  {
   "cell_type": "code",
   "execution_count": 54,
   "metadata": {
    "id": "wwqIHiV52sz1"
   },
   "outputs": [],
   "source": [
    "text = \"cannot rely on both milk delivery and grocery items\"\n",
    "aspect = \"Milk\""
   ]
  },
  {
   "cell_type": "code",
   "execution_count": 55,
   "metadata": {
    "id": "X-X2iqxf2s2L"
   },
   "outputs": [],
   "source": [
    "encoded_text = tokenizer(\n",
    "      text,\n",
    "      aspect,\n",
    "      add_special_tokens = True,\n",
    "      max_length = conf.MAX_LEN,\n",
    "      return_token_type_ids = False,\n",
    "      padding = 'max_length',\n",
    "      truncation = True,\n",
    "      return_attention_mask = True,\n",
    "      return_tensors = 'pt',\n",
    "    )"
   ]
  },
  {
   "cell_type": "code",
   "execution_count": 56,
   "metadata": {
    "id": "h2TVBbL02s46"
   },
   "outputs": [],
   "source": [
    "input_ids = encoded_text['input_ids'].to(device)\n",
    "attention_mask = encoded_text['attention_mask'].to(device)\n",
    "\n",
    "output = model(input_ids, attention_mask)\n",
    "_, prediction = torch.max(output, dim=1)"
   ]
  },
  {
   "cell_type": "code",
   "execution_count": 57,
   "metadata": {
    "id": "KAVc4ZQG2s7s"
   },
   "outputs": [
    {
     "name": "stdout",
     "output_type": "stream",
     "text": [
      "text: cannot rely on both milk delivery and grocery items\n",
      "aspect: Milk\n",
      "Sentiment  : Negative\n"
     ]
    }
   ],
   "source": [
    "print(f'text: {text}')\n",
    "print(f'aspect: {aspect}')\n",
    "print(f'Sentiment  : {class_names[prediction]}')"
   ]
  },
  {
   "cell_type": "markdown",
   "metadata": {},
   "source": [
    "#### Saving the accuracies and losses"
   ]
  },
  {
   "cell_type": "code",
   "execution_count": 264,
   "metadata": {},
   "outputs": [],
   "source": [
    "with open(f\"{conf.results_save_path}/train_acc.txt\", \"wb\") as fp:  \n",
    "    pickle.dump(train_acc, fp)"
   ]
  },
  {
   "cell_type": "code",
   "execution_count": 265,
   "metadata": {},
   "outputs": [],
   "source": [
    "with open(f\"{conf.results_save_path}/val_acc.txt\", \"wb\") as fp:  \n",
    "    pickle.dump(val_acc, fp)"
   ]
  },
  {
   "cell_type": "code",
   "execution_count": 266,
   "metadata": {},
   "outputs": [],
   "source": [
    "with open(f\"{conf.results_save_path}/train_loss.txt\", \"wb\") as fp:   \n",
    "    pickle.dump(history['train_loss'], fp)"
   ]
  },
  {
   "cell_type": "code",
   "execution_count": 267,
   "metadata": {},
   "outputs": [],
   "source": [
    "with open(f\"{conf.results_save_path}/val_loss.txt\", \"wb\") as fp:   \n",
    "    pickle.dump(history['val_loss'], fp)"
   ]
  },
  {
   "cell_type": "markdown",
   "metadata": {},
   "source": [
    "### Evaluation on the provided test file"
   ]
  },
  {
   "cell_type": "code",
   "execution_count": 13,
   "metadata": {},
   "outputs": [],
   "source": [
    "device = conf.device\n",
    "#device = torch.device('cpu')"
   ]
  },
  {
   "cell_type": "code",
   "execution_count": 14,
   "metadata": {},
   "outputs": [
    {
     "name": "stderr",
     "output_type": "stream",
     "text": [
      "Some weights of the model checkpoint at bert-base-cased were not used when initializing BertModel: ['cls.predictions.transform.dense.bias', 'cls.predictions.transform.dense.weight', 'cls.predictions.bias', 'cls.predictions.transform.LayerNorm.bias', 'cls.seq_relationship.weight', 'cls.predictions.transform.LayerNorm.weight', 'cls.predictions.decoder.weight', 'cls.seq_relationship.bias']\n",
      "- This IS expected if you are initializing BertModel from the checkpoint of a model trained on another task or with another architecture (e.g. initializing a BertForSequenceClassification model from a BertForPreTraining model).\n",
      "- This IS NOT expected if you are initializing BertModel from the checkpoint of a model that you expect to be exactly identical (initializing a BertForSequenceClassification model from a BertForSequenceClassification model).\n"
     ]
    }
   ],
   "source": [
    "model = ABSA_Model()\n",
    "model.load_state_dict(torch.load(f'{conf.model_save_path}/best_model_state.bin'))\n",
    "model = model.to(device)"
   ]
  },
  {
   "cell_type": "code",
   "execution_count": 15,
   "metadata": {},
   "outputs": [],
   "source": [
    "class_names = ['Negative', 'Neutral', 'Positive']"
   ]
  },
  {
   "cell_type": "code",
   "execution_count": 25,
   "metadata": {},
   "outputs": [
    {
     "name": "stderr",
     "output_type": "stream",
     "text": [
      "Be aware, overflowing tokens are not returned for the setting you have chosen, i.e. sequence pairs with the 'longest_first' truncation strategy. So the returned list will always be empty even if some tokens have been removed.\n"
     ]
    }
   ],
   "source": [
    "# building up the custom dataset class for our test file\n",
    "class Test_ABSA_Dataset(Dataset):\n",
    "    def __init__(self, texts, aspects, tokenizer, max_len):\n",
    "        self.texts = texts\n",
    "        self.aspects = aspects\n",
    "        self.tokenizer = tokenizer\n",
    "        self.max_len = max_len\n",
    "\n",
    "\n",
    "    def __len__(self):\n",
    "        return len(self.texts)\n",
    "\n",
    "\n",
    "    def __getitem__(self, index):\n",
    "        text = str(self.texts[index])\n",
    "        aspect = str(self.aspects[index])\n",
    "        \n",
    "        encoding = self.tokenizer(\n",
    "          text,\n",
    "          aspect,\n",
    "          add_special_tokens = True,\n",
    "          max_length = self.max_len,\n",
    "          return_token_type_ids = False,\n",
    "          padding = 'max_length',\n",
    "          truncation = True,\n",
    "          return_attention_mask = True,\n",
    "          return_tensors = 'pt',\n",
    "        )\n",
    "\n",
    "        return {\n",
    "          'text': text,\n",
    "          'aspect': aspect,\n",
    "          'input_ids': encoding['input_ids'].flatten(),  # from torch.Size([1,max_len]) to torch.Size([max_len])\n",
    "          'attention_mask': encoding['attention_mask'].flatten(),\n",
    "        }\n",
    "\n",
    "\n",
    "# dataloader function for test file\n",
    "def create_dataloader(df, tokenizer, max_len, batch_size, shuffle=False):\n",
    "    \n",
    "    dataset = Test_ABSA_Dataset(\n",
    "        texts = df.cleaned_text.to_numpy(),\n",
    "        aspects = df.cleaned_aspect.to_numpy(),\n",
    "        tokenizer = tokenizer,\n",
    "        max_len = max_len\n",
    "      )\n",
    "\n",
    "    dataloader = DataLoader(dataset, batch_size = batch_size, num_workers = conf.num_workers, shuffle = shuffle)\n",
    "    return dataloader\n",
    "\n",
    "\n",
    "def generate_predictions(file_size, dataloader):\n",
    "    \n",
    "    predictions = []\n",
    "    dataloader_iterator = iter(dataloader)\n",
    "    \n",
    "    model.eval()\n",
    "    for i in range(file_size):\n",
    "        data = next(dataloader_iterator)\n",
    "        \n",
    "        input_ids = data['input_ids'].to(device)\n",
    "        attention_mask = data['attention_mask'].to(device)\n",
    "        \n",
    "        with torch.no_grad():\n",
    "            output = model(input_ids, attention_mask)\n",
    "        \n",
    "        _, prediction = torch.max(output, dim=1)\n",
    "        predictions.append(prediction.cpu().numpy())\n",
    "        \n",
    "    return predictions\n",
    "              \n",
    "    \n",
    "if __name__ == '__main__':\n",
    "    \n",
    "    # read the test file and do the basic preprocessing\n",
    "    test_df = pd.read_csv(conf.test_file_path)\n",
    "    test_df['cleaned_text']=test_df['text'].apply(lambda text:preprocess_text(text))\n",
    "    test_df['cleaned_aspect']=test_df['aspect'].apply(lambda aspect:preprocess_text(aspect))\n",
    "    \n",
    "    # use the the tokenizer that was used for the training, see config file for info.\n",
    "    tokenizer = return_tokenizer()\n",
    "    \n",
    "    # create the dataloader for the test file\n",
    "    dataloader = create_dataloader(test_df, tokenizer, conf.MAX_LEN, 1)\n",
    "    \n",
    "    # get the list of predictions for all the entries in the test file\n",
    "    predictions = generate_predictions(test_df.shape[0], dataloader)\n",
    "    test_df['label'] = np.array(predictions)\n",
    "    \n",
    "    # save the test file with predictions\n",
    "    test_df.to_csv(f'{conf.results_save_path}/submission_for_test.csv', index = False)\n",
    "    "
   ]
  },
  {
   "cell_type": "code",
   "execution_count": 26,
   "metadata": {},
   "outputs": [],
   "source": [
    "submission_df = pd.read_csv(f'{conf.results_save_path}/submission_for_test.csv')"
   ]
  },
  {
   "cell_type": "code",
   "execution_count": 27,
   "metadata": {},
   "outputs": [
    {
     "data": {
      "text/html": [
       "<div>\n",
       "<style scoped>\n",
       "    .dataframe tbody tr th:only-of-type {\n",
       "        vertical-align: middle;\n",
       "    }\n",
       "\n",
       "    .dataframe tbody tr th {\n",
       "        vertical-align: top;\n",
       "    }\n",
       "\n",
       "    .dataframe thead th {\n",
       "        text-align: right;\n",
       "    }\n",
       "</style>\n",
       "<table border=\"1\" class=\"dataframe\">\n",
       "  <thead>\n",
       "    <tr style=\"text-align: right;\">\n",
       "      <th></th>\n",
       "      <th>text</th>\n",
       "      <th>aspect</th>\n",
       "      <th>cleaned_text</th>\n",
       "      <th>cleaned_aspect</th>\n",
       "      <th>label</th>\n",
       "    </tr>\n",
       "  </thead>\n",
       "  <tbody>\n",
       "    <tr>\n",
       "      <th>0</th>\n",
       "      <td>improve your customer service and product avai...</td>\n",
       "      <td>Customer service</td>\n",
       "      <td>improve your customer service and product avai...</td>\n",
       "      <td>Customer service</td>\n",
       "      <td>0</td>\n",
       "    </tr>\n",
       "    <tr>\n",
       "      <th>1</th>\n",
       "      <td>functionality is great, almost as in desktop v...</td>\n",
       "      <td>mobile version</td>\n",
       "      <td>functionality is great almost as in desktop ve...</td>\n",
       "      <td>mobile version</td>\n",
       "      <td>0</td>\n",
       "    </tr>\n",
       "    <tr>\n",
       "      <th>2</th>\n",
       "      <td>but it keeps starting from zoomed in and then ...</td>\n",
       "      <td>zoomed</td>\n",
       "      <td>but it keeps starting from zoomed in and then ...</td>\n",
       "      <td>zoomed</td>\n",
       "      <td>0</td>\n",
       "    </tr>\n",
       "    <tr>\n",
       "      <th>3</th>\n",
       "      <td>hey marilyn thanks for your answer the soc2 ty...</td>\n",
       "      <td>Security</td>\n",
       "      <td>hey marilyn thanks for your answer the soc2 ty...</td>\n",
       "      <td>Security</td>\n",
       "      <td>1</td>\n",
       "    </tr>\n",
       "    <tr>\n",
       "      <th>4</th>\n",
       "      <td>@delanovc @zoom @airtable @notionhq @calendly ...</td>\n",
       "      <td>apple</td>\n",
       "      <td>apple x lulu would be the most interestin...</td>\n",
       "      <td>apple</td>\n",
       "      <td>1</td>\n",
       "    </tr>\n",
       "  </tbody>\n",
       "</table>\n",
       "</div>"
      ],
      "text/plain": [
       "                                                text            aspect  \\\n",
       "0  improve your customer service and product avai...  Customer service   \n",
       "1  functionality is great, almost as in desktop v...    mobile version   \n",
       "2  but it keeps starting from zoomed in and then ...            zoomed   \n",
       "3  hey marilyn thanks for your answer the soc2 ty...          Security   \n",
       "4  @delanovc @zoom @airtable @notionhq @calendly ...             apple   \n",
       "\n",
       "                                        cleaned_text    cleaned_aspect  label  \n",
       "0  improve your customer service and product avai...  Customer service      0  \n",
       "1  functionality is great almost as in desktop ve...    mobile version      0  \n",
       "2  but it keeps starting from zoomed in and then ...            zoomed      0  \n",
       "3  hey marilyn thanks for your answer the soc2 ty...          Security      1  \n",
       "4       apple x lulu would be the most interestin...             apple      1  "
      ]
     },
     "execution_count": 27,
     "metadata": {},
     "output_type": "execute_result"
    }
   ],
   "source": [
    "submission_df.head()"
   ]
  },
  {
   "cell_type": "code",
   "execution_count": 65,
   "metadata": {},
   "outputs": [
    {
     "name": "stdout",
     "output_type": "stream",
     "text": [
      "dsfdf: sdfdf\n"
     ]
    }
   ],
   "source": [
    "x= input(\"dsfdf: \")"
   ]
  },
  {
   "cell_type": "code",
   "execution_count": null,
   "metadata": {},
   "outputs": [],
   "source": []
  }
 ],
 "metadata": {
  "accelerator": "GPU",
  "colab": {
   "collapsed_sections": [],
   "name": "absa_exploration.ipynb",
   "provenance": []
  },
  "kernelspec": {
   "display_name": "Python 3 (ipykernel)",
   "language": "python",
   "name": "python3"
  },
  "language_info": {
   "codemirror_mode": {
    "name": "ipython",
    "version": 3
   },
   "file_extension": ".py",
   "mimetype": "text/x-python",
   "name": "python",
   "nbconvert_exporter": "python",
   "pygments_lexer": "ipython3",
   "version": "3.8.8"
  }
 },
 "nbformat": 4,
 "nbformat_minor": 1
}
